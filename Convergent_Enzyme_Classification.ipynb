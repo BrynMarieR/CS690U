{
 "cells": [
  {
   "cell_type": "markdown",
   "id": "5099197a-43e3-4dec-b76d-8a5780cc63d5",
   "metadata": {},
   "source": [
    "# DGEB Final Project Notebook: Traditional Models for Convergent Enzyme Classification\n",
    "\n",
    "## Authors: Mahbuba Tasmin & Bryn Reimer  \n",
    "Course: CS 690U — Spring 2025  \n",
    "Date: April 2025\n",
    "\n",
    "## Objective\n",
    "\n",
    "We aim to benchmark the performance of the following traditional approaches:\n",
    "- **Logistic regression** trained on one-hot encoded DNA sequences (512 bp max) as well as $k$-mer count features.\n",
    "- **BLAST**-based nearest-neighbor prediction using top alignment match from training data.\n",
    "\n",
    "The remainder of this notebook is structured as follows:\n",
    "1. Dataset loading and pre-processing\n",
    "2. One-hot encoding\n",
    "3. $k$-mer encoding\n",
    "4. Count encoding\n",
    "5. Logistic regression + cross-validation\n",
    "6. BLAST-based baseline\n",
    "7. Comparative performance summary and interpretations\n",
    "\n",
    "\n"
   ]
  },
  {
   "cell_type": "markdown",
   "id": "0283731e-5103-4185-999c-266d4aa7d3ea",
   "metadata": {},
   "source": "## Dataset loading and pre-processing\n"
  },
  {
   "cell_type": "code",
   "id": "084476fc-0d30-4127-b621-ff6a940a4cd4",
   "metadata": {
    "ExecuteTime": {
     "end_time": "2025-05-01T17:20:59.715196Z",
     "start_time": "2025-05-01T17:20:58.828334Z"
    }
   },
   "source": "from utils import *",
   "outputs": [],
   "execution_count": 1
  },
  {
   "cell_type": "code",
   "id": "9e1cd35b-88db-4f78-bf99-64f85efe6787",
   "metadata": {
    "ExecuteTime": {
     "end_time": "2025-05-01T17:21:14.959990Z",
     "start_time": "2025-05-01T17:21:14.951836Z"
    }
   },
   "source": [
    "# Initial data were downloaded from the web using load_and_save_dataset.py\n",
    "df_train = pd.read_pickle('data/train_dataset.pkl')\n",
    "df_test = pd.read_pickle('data/test_dataset.pkl')"
   ],
   "outputs": [],
   "execution_count": 2
  },
  {
   "metadata": {
    "ExecuteTime": {
     "end_time": "2025-05-01T17:22:13.427567Z",
     "start_time": "2025-05-01T17:22:13.425117Z"
    }
   },
   "cell_type": "code",
   "source": [
    "print(f\"Train set: {df_train.shape}\")\n",
    "print(f\"Test set: {df_test.shape}\")"
   ],
   "id": "b0a544ea21fe247e",
   "outputs": [
    {
     "name": "stdout",
     "output_type": "stream",
     "text": [
      "Train set: (2000, 3)\n",
      "Test set: (400, 3)\n"
     ]
    }
   ],
   "execution_count": 3
  },
  {
   "metadata": {
    "ExecuteTime": {
     "end_time": "2025-05-01T17:22:27.287461Z",
     "start_time": "2025-05-01T17:22:27.281913Z"
    }
   },
   "cell_type": "code",
   "source": "df_train.head(3) # take a peek at the data",
   "id": "622bb52efffabb42",
   "outputs": [
    {
     "data": {
      "text/plain": [
       "    Entry    Label                                           Sequence\n",
       "0  A6UQM3  2.7.7.1  MRAFIVGRWQPFHKGHLEIIKKISEEVDEIIIGIGSCQRSHTLTDP...\n",
       "1  A2SS82  2.7.7.1  MRRGLYVGRFQPFHNGHKAVIDGLAEEVDELIIGIGSADISHDIRH...\n",
       "2  A0B5N0  2.7.7.1  MRRGFYIGRFQPYHMGHHLVLEQISREVDEIIVGIGTAQISHTVTD..."
      ],
      "text/html": [
       "<div>\n",
       "<style scoped>\n",
       "    .dataframe tbody tr th:only-of-type {\n",
       "        vertical-align: middle;\n",
       "    }\n",
       "\n",
       "    .dataframe tbody tr th {\n",
       "        vertical-align: top;\n",
       "    }\n",
       "\n",
       "    .dataframe thead th {\n",
       "        text-align: right;\n",
       "    }\n",
       "</style>\n",
       "<table border=\"1\" class=\"dataframe\">\n",
       "  <thead>\n",
       "    <tr style=\"text-align: right;\">\n",
       "      <th></th>\n",
       "      <th>Entry</th>\n",
       "      <th>Label</th>\n",
       "      <th>Sequence</th>\n",
       "    </tr>\n",
       "  </thead>\n",
       "  <tbody>\n",
       "    <tr>\n",
       "      <th>0</th>\n",
       "      <td>A6UQM3</td>\n",
       "      <td>2.7.7.1</td>\n",
       "      <td>MRAFIVGRWQPFHKGHLEIIKKISEEVDEIIIGIGSCQRSHTLTDP...</td>\n",
       "    </tr>\n",
       "    <tr>\n",
       "      <th>1</th>\n",
       "      <td>A2SS82</td>\n",
       "      <td>2.7.7.1</td>\n",
       "      <td>MRRGLYVGRFQPFHNGHKAVIDGLAEEVDELIIGIGSADISHDIRH...</td>\n",
       "    </tr>\n",
       "    <tr>\n",
       "      <th>2</th>\n",
       "      <td>A0B5N0</td>\n",
       "      <td>2.7.7.1</td>\n",
       "      <td>MRRGFYIGRFQPYHMGHHLVLEQISREVDEIIVGIGTAQISHTVTD...</td>\n",
       "    </tr>\n",
       "  </tbody>\n",
       "</table>\n",
       "</div>"
      ]
     },
     "execution_count": 5,
     "metadata": {},
     "output_type": "execute_result"
    }
   ],
   "execution_count": 5
  },
  {
   "metadata": {
    "ExecuteTime": {
     "end_time": "2025-05-01T17:39:13.801828Z",
     "start_time": "2025-05-01T17:39:13.672155Z"
    }
   },
   "cell_type": "code",
   "source": [
    "# check sequence lengths\n",
    "seq_lengths = df_train[\"Sequence\"].apply(len)\n",
    "\n",
    "print(seq_lengths.describe())\n",
    "\n",
    "seq_lengths.plot.hist(xlabel=\"Sequence length\", \n",
    "                      ylabel=\"Frequency\", \n",
    "                      title=\"Sequence lengths across training samples\")"
   ],
   "id": "7b8bb28239a2b19",
   "outputs": [
    {
     "name": "stdout",
     "output_type": "stream",
     "text": [
      "count    2000.00000\n",
      "mean      415.43800\n",
      "std       276.45399\n",
      "min        55.00000\n",
      "25%       239.00000\n",
      "50%       348.00000\n",
      "75%       514.50000\n",
      "max      3004.00000\n",
      "Name: Sequence, dtype: float64\n"
     ]
    },
    {
     "data": {
      "text/plain": [
       "<Axes: title={'center': 'Sequence lengths across training samples'}, xlabel='Sequence length', ylabel='Frequency'>"
      ]
     },
     "execution_count": 12,
     "metadata": {},
     "output_type": "execute_result"
    },
    {
     "data": {
      "text/plain": [
       "<Figure size 640x480 with 1 Axes>"
      ],
      "image/png": "[encoded data removed]"
     },
     "metadata": {},
     "output_type": "display_data"
    }
   ],
   "execution_count": 12
  },
  {
   "metadata": {
    "ExecuteTime": {
     "end_time": "2025-05-01T17:31:44.526896Z",
     "start_time": "2025-05-01T17:31:44.413299Z"
    }
   },
   "cell_type": "code",
   "source": [
    "# check sequence lengths\n",
    "test_seq_lengths = df_test[\"Sequence\"].apply(len)\n",
    "\n",
    "test_seq_lengths.plot.hist(xlabel=\"Sequence length\", \n",
    "                      ylabel=\"Frequency\", \n",
    "                      title=\"Sequence lengths across test samples\")"
   ],
   "id": "da0f08e1baaf7c9a",
   "outputs": [
    {
     "data": {
      "text/plain": [
       "<Axes: title={'center': 'Sequence lengths across test samples'}, xlabel='Sequence length', ylabel='Frequency'>"
      ]
     },
     "execution_count": 11,
     "metadata": {},
     "output_type": "execute_result"
    },
    {
     "data": {
      "text/plain": [
       "<Figure size 640x480 with 1 Axes>"
      ],
      "image/png": "[encoded data removed]"
     },
     "metadata": {},
     "output_type": "display_data"
    }
   ],
   "execution_count": 11
  },
  {
   "cell_type": "markdown",
   "id": "a3926d7e-a32d-4649-868b-8aac6390b080",
   "metadata": {},
   "source": "## One-hot encoding"
  },
  {
   "cell_type": "code",
   "id": "89afc527-307e-4b1e-8b9e-6642be8242e5",
   "metadata": {
    "ExecuteTime": {
     "end_time": "2025-05-01T17:41:36.379225Z",
     "start_time": "2025-05-01T17:41:36.376596Z"
    }
   },
   "source": [
    "# Define the standard 20 amino acids\n",
    "# Plus U for selenocysteine which is present in some of our samples\n",
    "AMINO_ACIDS = \"ACDEFGHIKLMNPQRSTUVWY\"\n",
    "\n",
    "def one_hot_encode_protein(seq, max_len=512):\n",
    "    encoding = np.zeros((max_len, len(AMINO_ACIDS)), dtype=np.int8)\n",
    "    for i, aa in enumerate(seq[:max_len]):\n",
    "        if aa != \"X\":\n",
    "            encoding[i, AMINO_ACIDS.index(aa)] = 1\n",
    "    return encoding.flatten()  # Shape: (max_len * 21,)"
   ],
   "outputs": [],
   "execution_count": 18
  },
  {
   "cell_type": "code",
   "id": "43ac1c78-fa42-4773-bde7-00f9da5ccb24",
   "metadata": {
    "ExecuteTime": {
     "end_time": "2025-05-01T17:41:37.015413Z",
     "start_time": "2025-05-01T17:41:36.772043Z"
    }
   },
   "source": [
    "## Apply encoding to all sequences, full length\n",
    "X_train = np.stack(df_train[\"Sequence\"].map(lambda s: one_hot_encode_protein(s, max_len=3004)))\n",
    "X_test = np.stack(df_test[\"Sequence\"].map(lambda s: one_hot_encode_protein(s, max_len=3004)))\n",
    "\n",
    "# Check shape\n",
    "print(f\"One-hot encoded train set shape: {X_train.shape}\")\n",
    "print(f\"One-hot encoded test set shape: {X_test.shape}\")"
   ],
   "outputs": [
    {
     "name": "stdout",
     "output_type": "stream",
     "text": [
      "One-hot encoded train set shape: (2000, 63084)\n",
      "One-hot encoded test set shape: (400, 63084)\n"
     ]
    }
   ],
   "execution_count": 19
  },
  {
   "metadata": {},
   "cell_type": "markdown",
   "source": "## $k$-mer encoding",
   "id": "a8deee60585e0a48"
  },
  {
   "metadata": {
    "ExecuteTime": {
     "end_time": "2025-05-01T17:46:17.410739Z",
     "start_time": "2025-05-01T17:46:13.818449Z"
    }
   },
   "cell_type": "code",
   "source": [
    "from collections import Counter\n",
    "from itertools import product\n",
    "\n",
    "def kmer_features_protein(seq, k=3):\n",
    "    # Define k-mer vocabulary from 20 amino acids\n",
    "    vocab = [''.join(p) for p in product(AMINO_ACIDS, repeat=k)]\n",
    "    counts = Counter([seq[i:i+k] for i in range(len(seq)-k+1)])\n",
    "    return np.array([counts.get(kmer, 0) for kmer in vocab], dtype=np.float32)\n",
    "\n",
    "X_train_kmer = np.stack(df_train[\"Sequence\"].map(lambda s: kmer_features_protein(s, k=3)))\n",
    "X_test_kmer = np.stack(df_test[\"Sequence\"].map(lambda s: kmer_features_protein(s, k=3)))\n",
    "\n",
    "\n",
    "print(\"Shape of 3-mer train feature matrix:\", X_train_kmer.shape)\n",
    "print(\"Shape of 3-mer test feature matrix:\", X_test_kmer.shape)"
   ],
   "id": "4a89a3a93d588b44",
   "outputs": [
    {
     "name": "stdout",
     "output_type": "stream",
     "text": [
      "Shape of k-mer train feature matrix: (2000, 9261)\n",
      "Shape of k-mer test feature matrix: (400, 9261)\n"
     ]
    }
   ],
   "execution_count": 23
  },
  {
   "metadata": {},
   "cell_type": "markdown",
   "source": "## Count encoding",
   "id": "e6a7f6a8351174de"
  },
  {
   "metadata": {
    "ExecuteTime": {
     "end_time": "2025-05-01T17:50:55.563185Z",
     "start_time": "2025-05-01T17:50:55.446208Z"
    }
   },
   "cell_type": "code",
   "source": [
    "def count_features_protein(seq):\n",
    "    vocab = list(AMINO_ACIDS)\n",
    "    counts = Counter([seq[i:i+1] for i in range(len(seq)-1+1)])\n",
    "    return np.array([counts.get(kmer, 0) for kmer in vocab], dtype=np.float32)\n",
    "\n",
    "X_train_count = np.stack(df_train[\"Sequence\"].map(lambda s: count_features_protein(s)))\n",
    "X_test_count = np.stack(df_test[\"Sequence\"].map(lambda s: count_features_protein(s)))\n",
    "\n",
    "\n",
    "print(\"Shape of count-encoded train feature matrix:\", X_train_count.shape)\n",
    "print(\"Shape of count-encoded test feature matrix:\", X_test_count.shape)"
   ],
   "id": "9eacd84f0f620722",
   "outputs": [
    {
     "name": "stdout",
     "output_type": "stream",
     "text": [
      "Shape of count-encoded train feature matrix: (2000, 21)\n",
      "Shape of count-encoded test feature matrix: (400, 21)\n"
     ]
    }
   ],
   "execution_count": 24
  },
  {
   "cell_type": "markdown",
   "id": "d3848a15-f6eb-4032-8c6a-6221f471527d",
   "metadata": {
    "jp-MarkdownHeadingCollapsed": true,
    "tags": []
   },
   "source": "## Logistic Regression with Pytorch"
  },
  {
   "metadata": {},
   "cell_type": "code",
   "outputs": [],
   "execution_count": null,
   "source": [
    "import torch\n",
    "import torch.nn as nn\n",
    "import torch.optim as optim\n",
    "from torch.utils.data import DataLoader, TensorDataset\n",
    "from sklearn.preprocessing import LabelEncoder\n",
    "from sklearn.metrics import accuracy_score, f1_score"
   ],
   "id": "5132c227da5a7762"
  },
  {
   "cell_type": "code",
   "id": "cd667c87-e672-4e99-8e23-f3e4c4611553",
   "metadata": {
    "ExecuteTime": {
     "end_time": "2025-05-01T17:52:14.313168Z",
     "start_time": "2025-05-01T17:52:14.306766Z"
    }
   },
   "source": [
    "## Encode EC labels as integer labels\n",
    "\n",
    "le = LabelEncoder()\n",
    "y_train = le.fit_transform(df_train[\"Label\"])\n",
    "y_test = le.transform(df_test[\"Label\"])\n",
    "\n",
    "# Optional: Show label classes\n",
    "print(\"Classes:\", le.classes_)"
   ],
   "outputs": [
    {
     "name": "stdout",
     "output_type": "stream",
     "text": [
      "Classes: ['1.1.1.1' '1.1.1.103' '1.1.1.169' '1.1.1.17' '1.1.1.2' '1.1.1.27'\n",
      " '1.1.1.35' '1.1.1.37' '1.1.1.42' '1.1.1.47' '1.1.5.3' '1.11.1.24'\n",
      " '1.11.1.28' '1.11.1.5' '1.11.1.6' '1.11.1.7' '1.12.98.1' '1.13.11.24'\n",
      " '1.14.11.27' '1.14.13.25' '1.14.13.39' '1.14.14.18' '1.14.18.1'\n",
      " '1.14.99.60' '1.15.1.1' '1.16.1.9' '1.16.3.1' '1.17.1.4' '1.17.1.9'\n",
      " '1.17.4.1' '1.17.99.6' '1.17.99.9' '1.18.1.2' '1.18.1.3' '1.18.6.1'\n",
      " '1.2.1.10' '1.2.4.1' '1.2.4.4' '1.2.7.1' '1.2.7.12' '1.2.7.3' '1.20.4.1'\n",
      " '1.3.1.104' '1.3.1.9' '1.3.5.1' '1.3.7.7' '1.4.1.1' '1.4.1.13' '1.4.1.2'\n",
      " '1.4.3.5' '1.5.1.2' '1.5.1.3' '1.5.1.36' '1.5.1.42' '1.5.3.24' '1.5.98.3'\n",
      " '1.6.5.2' '1.6.5.9' '1.7.5.1' '1.8.1.2' '1.8.1.8' '1.8.1.9' '1.8.3.2'\n",
      " '1.97.1.12' '2.1.1.17' '2.1.1.228' '2.1.1.320' '2.1.1.33' '2.1.1.355'\n",
      " '2.1.1.37' '2.1.1.56' '2.1.1.57' '2.1.1.72' '2.1.1.85' '2.1.1.86'\n",
      " '2.1.3.15' '2.2.1.6' '2.3.1.1' '2.3.1.15' '2.3.1.180' '2.3.1.181'\n",
      " '2.3.1.184' '2.3.1.199' '2.3.1.20' '2.3.1.225' '2.3.1.28' '2.3.1.30'\n",
      " '2.3.1.31' '2.3.1.46' '2.3.1.48' '2.3.1.51' '2.3.1.75' '2.3.1.97'\n",
      " '2.3.2.13' '2.3.2.23' '2.3.2.26' '2.3.2.27' '2.3.2.36' '2.3.3.9'\n",
      " '2.4.1.109' '2.4.1.122' '2.4.1.129' '2.4.1.17' '2.4.1.18' '2.4.1.198'\n",
      " '2.4.1.25' '2.4.2.1' '2.4.2.10' '2.4.2.17' '2.4.2.31' '2.4.2.8' '2.4.2.9'\n",
      " '2.5.1.145' '2.5.1.16' '2.5.1.18' '2.5.1.3' '2.5.1.54' '2.5.1.6'\n",
      " '2.5.1.60' '2.5.1.78' '2.5.1.9' '2.6.1.1' '2.6.1.57' '2.7.1.107'\n",
      " '2.7.1.11' '2.7.1.121' '2.7.1.148' '2.7.1.2' '2.7.1.202' '2.7.1.21'\n",
      " '2.7.1.23' '2.7.1.24' '2.7.1.31' '2.7.1.33' '2.7.1.39' '2.7.1.4'\n",
      " '2.7.1.48' '2.7.1.67' '2.7.1.71' '2.7.10.2' '2.7.11.1' '2.7.11.22'\n",
      " '2.7.12.1' '2.7.13.3' '2.7.2.1' '2.7.4.1' '2.7.4.2' '2.7.4.25' '2.7.4.3'\n",
      " '2.7.4.9' '2.7.6.3' '2.7.7.1' '2.7.7.101' '2.7.7.108' '2.7.7.12'\n",
      " '2.7.7.15' '2.7.7.19' '2.7.7.2' '2.7.7.24' '2.7.7.3' '2.7.7.4' '2.7.7.41'\n",
      " '2.7.7.48' '2.7.7.49' '2.7.7.50' '2.7.7.6' '2.7.7.65' '2.7.7.7'\n",
      " '2.7.7.72' '2.7.7.77' '2.7.7.85' '2.7.7.9' '2.7.8.26' '2.7.8.37'\n",
      " '2.7.8.5' '2.7.8.7' '2.7.8.8' '2.8.1.1' '2.8.4.1' '3.1.1.1' '3.1.1.29'\n",
      " '3.1.1.3' '3.1.1.31' '3.1.1.32' '3.1.1.4' '3.1.1.5' '3.1.1.73' '3.1.1.74'\n",
      " '3.1.1.96' '3.1.11.2' '3.1.11.6' '3.1.13.1' '3.1.13.4' '3.1.2.22'\n",
      " '3.1.2.28' '3.1.21.1' '3.1.21.10' '3.1.21.2' '3.1.21.4' '3.1.26.11'\n",
      " '3.1.26.3' '3.1.26.4' '3.1.26.5' '3.1.3.1' '3.1.3.11' '3.1.3.12'\n",
      " '3.1.3.15' '3.1.3.16' '3.1.3.18' '3.1.3.2' '3.1.3.25' '3.1.3.27'\n",
      " '3.1.3.3' '3.1.3.48' '3.1.3.5' '3.1.3.64' '3.1.3.84' '3.1.3.89'\n",
      " '3.1.4.12' '3.1.4.17' '3.1.4.3' '3.1.4.35' '3.1.4.37' '3.1.4.4'\n",
      " '3.1.4.46' '3.1.4.53' '3.2.1.1' '3.2.1.14' '3.2.1.15' '3.2.1.17'\n",
      " '3.2.1.18' '3.2.1.20' '3.2.1.21' '3.2.1.22' '3.2.1.23' '3.2.1.24'\n",
      " '3.2.1.26' '3.2.1.28' '3.2.1.3' '3.2.1.31' '3.2.1.35' '3.2.1.37'\n",
      " '3.2.1.39' '3.2.1.4' '3.2.1.51' '3.2.1.52' '3.2.1.55' '3.2.1.58'\n",
      " '3.2.1.6' '3.2.1.67' '3.2.1.73' '3.2.1.78' '3.2.1.8' '3.2.1.81'\n",
      " '3.2.1.86' '3.2.1.91' '3.2.1.96' '3.2.2.22' '3.2.2.27' '3.2.2.5'\n",
      " '3.2.2.6' '3.4.11.18' '3.4.13.19' '3.4.14.10' '3.4.16.4' '3.4.19.12'\n",
      " '3.4.21.105' '3.4.21.62' '3.4.21.89' '3.4.23.36' '3.5.1.1' '3.5.1.2'\n",
      " '3.5.1.23' '3.5.1.28' '3.5.1.4' '3.5.1.44' '3.5.1.5' '3.5.1.52' '3.5.1.9'\n",
      " '3.5.1.98' '3.5.2.17' '3.5.2.3' '3.5.2.6' '3.5.2.9' '3.5.3.4' '3.5.4.16'\n",
      " '3.5.4.2' '3.5.4.4' '3.5.4.5' '3.5.99.6' '3.6.1.1' '3.6.1.10' '3.6.1.15'\n",
      " '3.6.1.23' '3.6.1.27' '3.6.1.31' '3.6.1.41' '3.6.1.5' '3.6.1.54'\n",
      " '3.6.1.7' '3.6.1.9' '3.6.4.10' '3.6.4.12' '3.6.4.13' '3.6.5.2' '4.1.1.11'\n",
      " '4.1.1.17' '4.1.1.19' '4.1.1.23' '4.1.1.31' '4.1.1.50' '4.1.1.65'\n",
      " '4.1.2.13' '4.1.2.25' '4.1.3.27' '4.1.3.39' '4.1.3.40' '4.1.99.5'\n",
      " '4.2.1.1' '4.2.1.10' '4.2.1.17' '4.2.1.2' '4.2.1.20' '4.2.1.33'\n",
      " '4.2.1.59' '4.2.1.8' '4.2.1.84' '4.2.1.96' '4.2.2.2' '4.2.2.n1'\n",
      " '4.2.99.18' '4.3.1.17' '4.3.1.18' '4.3.1.7' '4.3.2.3' '4.4.1.13'\n",
      " '4.4.1.3' '4.4.1.5' '4.6.1.1' '4.6.1.16' '4.6.1.2' '4.6.1.24' '4.98.1.1'\n",
      " '5.1.1.1' '5.1.1.3' '5.2.1.8' '5.3.1.1' '5.3.1.16' '5.3.1.24' '5.3.1.6'\n",
      " '5.3.1.8' '5.3.1.9' '5.3.3.2' '5.3.4.1' '5.4.2.12' '5.4.2.7' '5.4.2.8'\n",
      " '5.4.99.1' '5.4.99.12' '5.4.99.25' '5.4.99.5' '5.5.1.6' '5.6.2.1'\n",
      " '5.6.2.2' '5.6.2.3' '5.6.2.4' '6.1.1.1' '6.1.1.11' '6.1.1.14' '6.1.1.2'\n",
      " '6.1.1.20' '6.1.1.6' '6.2.1.1' '6.2.1.12' '6.2.1.5' '6.3.1.2' '6.3.1.20'\n",
      " '6.3.2.2' '6.3.2.3' '6.3.2.6' '6.3.4.19' '6.3.5.2' '6.3.5.3' '6.4.1.3'\n",
      " '6.5.1.1' '6.5.1.2' '6.5.1.3' '6.6.1.1' '7.1.1.2' '7.1.1.7' '7.1.1.8'\n",
      " '7.1.1.9' '7.1.2.2' '7.2.1.1' '7.2.2.10' '7.2.2.20' '7.2.4.2' '7.2.4.3'\n",
      " '7.4.2.8' '7.6.2.1']\n"
     ]
    }
   ],
   "execution_count": 25
  },
  {
   "cell_type": "code",
   "id": "cfb9ac30-deff-46d6-98f7-5b3f1add0043",
   "metadata": {
    "ExecuteTime": {
     "end_time": "2025-05-01T18:10:10.105856Z",
     "start_time": "2025-05-01T17:52:54.586584Z"
    }
   },
   "source": [
    "## Train logistic regression (one-hot encoding)\n",
    "clf = LogisticRegression(\n",
    "    solver='saga',\n",
    "    multi_class='multinomial',\n",
    "    penalty='l2',\n",
    "    C=0.5,                 # stronger regularization (faster convergence)\n",
    "    max_iter=300,\n",
    "    n_jobs=-1,\n",
    "    verbose=1\n",
    ")\n",
    "clf.fit(X_train, y_train)\n"
   ],
   "outputs": [
    {
     "name": "stderr",
     "output_type": "stream",
     "text": [
      "[Parallel(n_jobs=-1)]: Using backend ThreadingBackend with 8 concurrent workers.\n"
     ]
    },
    {
     "ename": "KeyboardInterrupt",
     "evalue": "",
     "output_type": "error",
     "traceback": [
      "\u001B[0;31m---------------------------------------------------------------------------\u001B[0m",
      "\u001B[0;31mKeyboardInterrupt\u001B[0m                         Traceback (most recent call last)",
      "Cell \u001B[0;32mIn[26], line 11\u001B[0m\n\u001B[1;32m      1\u001B[0m \u001B[38;5;66;03m## train log reg\u001B[39;00m\n\u001B[1;32m      2\u001B[0m clf \u001B[38;5;241m=\u001B[39m LogisticRegression(\n\u001B[1;32m      3\u001B[0m     solver\u001B[38;5;241m=\u001B[39m\u001B[38;5;124m'\u001B[39m\u001B[38;5;124msaga\u001B[39m\u001B[38;5;124m'\u001B[39m,\n\u001B[1;32m      4\u001B[0m     multi_class\u001B[38;5;241m=\u001B[39m\u001B[38;5;124m'\u001B[39m\u001B[38;5;124mmultinomial\u001B[39m\u001B[38;5;124m'\u001B[39m,\n\u001B[0;32m   (...)\u001B[0m\n\u001B[1;32m      9\u001B[0m     verbose\u001B[38;5;241m=\u001B[39m\u001B[38;5;241m1\u001B[39m\n\u001B[1;32m     10\u001B[0m )\n\u001B[0;32m---> 11\u001B[0m \u001B[43mclf\u001B[49m\u001B[38;5;241;43m.\u001B[39;49m\u001B[43mfit\u001B[49m\u001B[43m(\u001B[49m\u001B[43mX_train\u001B[49m\u001B[43m,\u001B[49m\u001B[43m \u001B[49m\u001B[43my_train\u001B[49m\u001B[43m)\u001B[49m\n",
      "File \u001B[0;32m~/Desktop/CB_690U/CS690U/.venv/lib/python3.8/site-packages/sklearn/base.py:1152\u001B[0m, in \u001B[0;36m_fit_context.<locals>.decorator.<locals>.wrapper\u001B[0;34m(estimator, *args, **kwargs)\u001B[0m\n\u001B[1;32m   1145\u001B[0m     estimator\u001B[38;5;241m.\u001B[39m_validate_params()\n\u001B[1;32m   1147\u001B[0m \u001B[38;5;28;01mwith\u001B[39;00m config_context(\n\u001B[1;32m   1148\u001B[0m     skip_parameter_validation\u001B[38;5;241m=\u001B[39m(\n\u001B[1;32m   1149\u001B[0m         prefer_skip_nested_validation \u001B[38;5;129;01mor\u001B[39;00m global_skip_validation\n\u001B[1;32m   1150\u001B[0m     )\n\u001B[1;32m   1151\u001B[0m ):\n\u001B[0;32m-> 1152\u001B[0m     \u001B[38;5;28;01mreturn\u001B[39;00m \u001B[43mfit_method\u001B[49m\u001B[43m(\u001B[49m\u001B[43mestimator\u001B[49m\u001B[43m,\u001B[49m\u001B[43m \u001B[49m\u001B[38;5;241;43m*\u001B[39;49m\u001B[43margs\u001B[49m\u001B[43m,\u001B[49m\u001B[43m \u001B[49m\u001B[38;5;241;43m*\u001B[39;49m\u001B[38;5;241;43m*\u001B[39;49m\u001B[43mkwargs\u001B[49m\u001B[43m)\u001B[49m\n",
      "File \u001B[0;32m~/Desktop/CB_690U/CS690U/.venv/lib/python3.8/site-packages/sklearn/linear_model/_logistic.py:1303\u001B[0m, in \u001B[0;36mLogisticRegression.fit\u001B[0;34m(self, X, y, sample_weight)\u001B[0m\n\u001B[1;32m   1300\u001B[0m \u001B[38;5;28;01melse\u001B[39;00m:\n\u001B[1;32m   1301\u001B[0m     n_threads \u001B[38;5;241m=\u001B[39m \u001B[38;5;241m1\u001B[39m\n\u001B[0;32m-> 1303\u001B[0m fold_coefs_ \u001B[38;5;241m=\u001B[39m \u001B[43mParallel\u001B[49m\u001B[43m(\u001B[49m\u001B[43mn_jobs\u001B[49m\u001B[38;5;241;43m=\u001B[39;49m\u001B[38;5;28;43mself\u001B[39;49m\u001B[38;5;241;43m.\u001B[39;49m\u001B[43mn_jobs\u001B[49m\u001B[43m,\u001B[49m\u001B[43m \u001B[49m\u001B[43mverbose\u001B[49m\u001B[38;5;241;43m=\u001B[39;49m\u001B[38;5;28;43mself\u001B[39;49m\u001B[38;5;241;43m.\u001B[39;49m\u001B[43mverbose\u001B[49m\u001B[43m,\u001B[49m\u001B[43m \u001B[49m\u001B[43mprefer\u001B[49m\u001B[38;5;241;43m=\u001B[39;49m\u001B[43mprefer\u001B[49m\u001B[43m)\u001B[49m\u001B[43m(\u001B[49m\n\u001B[1;32m   1304\u001B[0m \u001B[43m    \u001B[49m\u001B[43mpath_func\u001B[49m\u001B[43m(\u001B[49m\n\u001B[1;32m   1305\u001B[0m \u001B[43m        \u001B[49m\u001B[43mX\u001B[49m\u001B[43m,\u001B[49m\n\u001B[1;32m   1306\u001B[0m \u001B[43m        \u001B[49m\u001B[43my\u001B[49m\u001B[43m,\u001B[49m\n\u001B[1;32m   1307\u001B[0m \u001B[43m        \u001B[49m\u001B[43mpos_class\u001B[49m\u001B[38;5;241;43m=\u001B[39;49m\u001B[43mclass_\u001B[49m\u001B[43m,\u001B[49m\n\u001B[1;32m   1308\u001B[0m \u001B[43m        \u001B[49m\u001B[43mCs\u001B[49m\u001B[38;5;241;43m=\u001B[39;49m\u001B[43m[\u001B[49m\u001B[43mC_\u001B[49m\u001B[43m]\u001B[49m\u001B[43m,\u001B[49m\n\u001B[1;32m   1309\u001B[0m \u001B[43m        \u001B[49m\u001B[43ml1_ratio\u001B[49m\u001B[38;5;241;43m=\u001B[39;49m\u001B[38;5;28;43mself\u001B[39;49m\u001B[38;5;241;43m.\u001B[39;49m\u001B[43ml1_ratio\u001B[49m\u001B[43m,\u001B[49m\n\u001B[1;32m   1310\u001B[0m \u001B[43m        \u001B[49m\u001B[43mfit_intercept\u001B[49m\u001B[38;5;241;43m=\u001B[39;49m\u001B[38;5;28;43mself\u001B[39;49m\u001B[38;5;241;43m.\u001B[39;49m\u001B[43mfit_intercept\u001B[49m\u001B[43m,\u001B[49m\n\u001B[1;32m   1311\u001B[0m \u001B[43m        \u001B[49m\u001B[43mtol\u001B[49m\u001B[38;5;241;43m=\u001B[39;49m\u001B[38;5;28;43mself\u001B[39;49m\u001B[38;5;241;43m.\u001B[39;49m\u001B[43mtol\u001B[49m\u001B[43m,\u001B[49m\n\u001B[1;32m   1312\u001B[0m \u001B[43m        \u001B[49m\u001B[43mverbose\u001B[49m\u001B[38;5;241;43m=\u001B[39;49m\u001B[38;5;28;43mself\u001B[39;49m\u001B[38;5;241;43m.\u001B[39;49m\u001B[43mverbose\u001B[49m\u001B[43m,\u001B[49m\n\u001B[1;32m   1313\u001B[0m \u001B[43m        \u001B[49m\u001B[43msolver\u001B[49m\u001B[38;5;241;43m=\u001B[39;49m\u001B[43msolver\u001B[49m\u001B[43m,\u001B[49m\n\u001B[1;32m   1314\u001B[0m \u001B[43m        \u001B[49m\u001B[43mmulti_class\u001B[49m\u001B[38;5;241;43m=\u001B[39;49m\u001B[43mmulti_class\u001B[49m\u001B[43m,\u001B[49m\n\u001B[1;32m   1315\u001B[0m \u001B[43m        \u001B[49m\u001B[43mmax_iter\u001B[49m\u001B[38;5;241;43m=\u001B[39;49m\u001B[38;5;28;43mself\u001B[39;49m\u001B[38;5;241;43m.\u001B[39;49m\u001B[43mmax_iter\u001B[49m\u001B[43m,\u001B[49m\n\u001B[1;32m   1316\u001B[0m \u001B[43m        \u001B[49m\u001B[43mclass_weight\u001B[49m\u001B[38;5;241;43m=\u001B[39;49m\u001B[38;5;28;43mself\u001B[39;49m\u001B[38;5;241;43m.\u001B[39;49m\u001B[43mclass_weight\u001B[49m\u001B[43m,\u001B[49m\n\u001B[1;32m   1317\u001B[0m \u001B[43m        \u001B[49m\u001B[43mcheck_input\u001B[49m\u001B[38;5;241;43m=\u001B[39;49m\u001B[38;5;28;43;01mFalse\u001B[39;49;00m\u001B[43m,\u001B[49m\n\u001B[1;32m   1318\u001B[0m \u001B[43m        \u001B[49m\u001B[43mrandom_state\u001B[49m\u001B[38;5;241;43m=\u001B[39;49m\u001B[38;5;28;43mself\u001B[39;49m\u001B[38;5;241;43m.\u001B[39;49m\u001B[43mrandom_state\u001B[49m\u001B[43m,\u001B[49m\n\u001B[1;32m   1319\u001B[0m \u001B[43m        \u001B[49m\u001B[43mcoef\u001B[49m\u001B[38;5;241;43m=\u001B[39;49m\u001B[43mwarm_start_coef_\u001B[49m\u001B[43m,\u001B[49m\n\u001B[1;32m   1320\u001B[0m \u001B[43m        \u001B[49m\u001B[43mpenalty\u001B[49m\u001B[38;5;241;43m=\u001B[39;49m\u001B[43mpenalty\u001B[49m\u001B[43m,\u001B[49m\n\u001B[1;32m   1321\u001B[0m \u001B[43m        \u001B[49m\u001B[43mmax_squared_sum\u001B[49m\u001B[38;5;241;43m=\u001B[39;49m\u001B[43mmax_squared_sum\u001B[49m\u001B[43m,\u001B[49m\n\u001B[1;32m   1322\u001B[0m \u001B[43m        \u001B[49m\u001B[43msample_weight\u001B[49m\u001B[38;5;241;43m=\u001B[39;49m\u001B[43msample_weight\u001B[49m\u001B[43m,\u001B[49m\n\u001B[1;32m   1323\u001B[0m \u001B[43m        \u001B[49m\u001B[43mn_threads\u001B[49m\u001B[38;5;241;43m=\u001B[39;49m\u001B[43mn_threads\u001B[49m\u001B[43m,\u001B[49m\n\u001B[1;32m   1324\u001B[0m \u001B[43m    \u001B[49m\u001B[43m)\u001B[49m\n\u001B[1;32m   1325\u001B[0m \u001B[43m    \u001B[49m\u001B[38;5;28;43;01mfor\u001B[39;49;00m\u001B[43m \u001B[49m\u001B[43mclass_\u001B[49m\u001B[43m,\u001B[49m\u001B[43m \u001B[49m\u001B[43mwarm_start_coef_\u001B[49m\u001B[43m \u001B[49m\u001B[38;5;129;43;01min\u001B[39;49;00m\u001B[43m \u001B[49m\u001B[38;5;28;43mzip\u001B[39;49m\u001B[43m(\u001B[49m\u001B[43mclasses_\u001B[49m\u001B[43m,\u001B[49m\u001B[43m \u001B[49m\u001B[43mwarm_start_coef\u001B[49m\u001B[43m)\u001B[49m\n\u001B[1;32m   1326\u001B[0m \u001B[43m\u001B[49m\u001B[43m)\u001B[49m\n\u001B[1;32m   1328\u001B[0m fold_coefs_, _, n_iter_ \u001B[38;5;241m=\u001B[39m \u001B[38;5;28mzip\u001B[39m(\u001B[38;5;241m*\u001B[39mfold_coefs_)\n\u001B[1;32m   1329\u001B[0m \u001B[38;5;28mself\u001B[39m\u001B[38;5;241m.\u001B[39mn_iter_ \u001B[38;5;241m=\u001B[39m np\u001B[38;5;241m.\u001B[39masarray(n_iter_, dtype\u001B[38;5;241m=\u001B[39mnp\u001B[38;5;241m.\u001B[39mint32)[:, \u001B[38;5;241m0\u001B[39m]\n",
      "File \u001B[0;32m~/Desktop/CB_690U/CS690U/.venv/lib/python3.8/site-packages/sklearn/utils/parallel.py:65\u001B[0m, in \u001B[0;36mParallel.__call__\u001B[0;34m(self, iterable)\u001B[0m\n\u001B[1;32m     60\u001B[0m config \u001B[38;5;241m=\u001B[39m get_config()\n\u001B[1;32m     61\u001B[0m iterable_with_config \u001B[38;5;241m=\u001B[39m (\n\u001B[1;32m     62\u001B[0m     (_with_config(delayed_func, config), args, kwargs)\n\u001B[1;32m     63\u001B[0m     \u001B[38;5;28;01mfor\u001B[39;00m delayed_func, args, kwargs \u001B[38;5;129;01min\u001B[39;00m iterable\n\u001B[1;32m     64\u001B[0m )\n\u001B[0;32m---> 65\u001B[0m \u001B[38;5;28;01mreturn\u001B[39;00m \u001B[38;5;28;43msuper\u001B[39;49m\u001B[43m(\u001B[49m\u001B[43m)\u001B[49m\u001B[38;5;241;43m.\u001B[39;49m\u001B[38;5;21;43m__call__\u001B[39;49m\u001B[43m(\u001B[49m\u001B[43miterable_with_config\u001B[49m\u001B[43m)\u001B[49m\n",
      "File \u001B[0;32m~/Desktop/CB_690U/CS690U/.venv/lib/python3.8/site-packages/joblib/parallel.py:2007\u001B[0m, in \u001B[0;36mParallel.__call__\u001B[0;34m(self, iterable)\u001B[0m\n\u001B[1;32m   2001\u001B[0m \u001B[38;5;66;03m# The first item from the output is blank, but it makes the interpreter\u001B[39;00m\n\u001B[1;32m   2002\u001B[0m \u001B[38;5;66;03m# progress until it enters the Try/Except block of the generator and\u001B[39;00m\n\u001B[1;32m   2003\u001B[0m \u001B[38;5;66;03m# reaches the first `yield` statement. This starts the asynchronous\u001B[39;00m\n\u001B[1;32m   2004\u001B[0m \u001B[38;5;66;03m# dispatch of the tasks to the workers.\u001B[39;00m\n\u001B[1;32m   2005\u001B[0m \u001B[38;5;28mnext\u001B[39m(output)\n\u001B[0;32m-> 2007\u001B[0m \u001B[38;5;28;01mreturn\u001B[39;00m output \u001B[38;5;28;01mif\u001B[39;00m \u001B[38;5;28mself\u001B[39m\u001B[38;5;241m.\u001B[39mreturn_generator \u001B[38;5;28;01melse\u001B[39;00m \u001B[38;5;28;43mlist\u001B[39;49m\u001B[43m(\u001B[49m\u001B[43moutput\u001B[49m\u001B[43m)\u001B[49m\n",
      "File \u001B[0;32m~/Desktop/CB_690U/CS690U/.venv/lib/python3.8/site-packages/joblib/parallel.py:1650\u001B[0m, in \u001B[0;36mParallel._get_outputs\u001B[0;34m(self, iterator, pre_dispatch)\u001B[0m\n\u001B[1;32m   1647\u001B[0m     \u001B[38;5;28;01myield\u001B[39;00m\n\u001B[1;32m   1649\u001B[0m     \u001B[38;5;28;01mwith\u001B[39;00m \u001B[38;5;28mself\u001B[39m\u001B[38;5;241m.\u001B[39m_backend\u001B[38;5;241m.\u001B[39mretrieval_context():\n\u001B[0;32m-> 1650\u001B[0m         \u001B[38;5;28;01myield from\u001B[39;00m \u001B[38;5;28mself\u001B[39m\u001B[38;5;241m.\u001B[39m_retrieve()\n\u001B[1;32m   1652\u001B[0m \u001B[38;5;28;01mexcept\u001B[39;00m \u001B[38;5;167;01mGeneratorExit\u001B[39;00m:\n\u001B[1;32m   1653\u001B[0m     \u001B[38;5;66;03m# The generator has been garbage collected before being fully\u001B[39;00m\n\u001B[1;32m   1654\u001B[0m     \u001B[38;5;66;03m# consumed. This aborts the remaining tasks if possible and warn\u001B[39;00m\n\u001B[1;32m   1655\u001B[0m     \u001B[38;5;66;03m# the user if necessary.\u001B[39;00m\n\u001B[1;32m   1656\u001B[0m     \u001B[38;5;28mself\u001B[39m\u001B[38;5;241m.\u001B[39m_exception \u001B[38;5;241m=\u001B[39m \u001B[38;5;28;01mTrue\u001B[39;00m\n",
      "File \u001B[0;32m~/Desktop/CB_690U/CS690U/.venv/lib/python3.8/site-packages/joblib/parallel.py:1762\u001B[0m, in \u001B[0;36mParallel._retrieve\u001B[0;34m(self)\u001B[0m\n\u001B[1;32m   1757\u001B[0m \u001B[38;5;66;03m# If the next job is not ready for retrieval yet, we just wait for\u001B[39;00m\n\u001B[1;32m   1758\u001B[0m \u001B[38;5;66;03m# async callbacks to progress.\u001B[39;00m\n\u001B[1;32m   1759\u001B[0m \u001B[38;5;28;01mif\u001B[39;00m ((\u001B[38;5;28mlen\u001B[39m(\u001B[38;5;28mself\u001B[39m\u001B[38;5;241m.\u001B[39m_jobs) \u001B[38;5;241m==\u001B[39m \u001B[38;5;241m0\u001B[39m) \u001B[38;5;129;01mor\u001B[39;00m\n\u001B[1;32m   1760\u001B[0m     (\u001B[38;5;28mself\u001B[39m\u001B[38;5;241m.\u001B[39m_jobs[\u001B[38;5;241m0\u001B[39m]\u001B[38;5;241m.\u001B[39mget_status(\n\u001B[1;32m   1761\u001B[0m         timeout\u001B[38;5;241m=\u001B[39m\u001B[38;5;28mself\u001B[39m\u001B[38;5;241m.\u001B[39mtimeout) \u001B[38;5;241m==\u001B[39m TASK_PENDING)):\n\u001B[0;32m-> 1762\u001B[0m     \u001B[43mtime\u001B[49m\u001B[38;5;241;43m.\u001B[39;49m\u001B[43msleep\u001B[49m\u001B[43m(\u001B[49m\u001B[38;5;241;43m0.01\u001B[39;49m\u001B[43m)\u001B[49m\n\u001B[1;32m   1763\u001B[0m     \u001B[38;5;28;01mcontinue\u001B[39;00m\n\u001B[1;32m   1765\u001B[0m \u001B[38;5;66;03m# We need to be careful: the job list can be filling up as\u001B[39;00m\n\u001B[1;32m   1766\u001B[0m \u001B[38;5;66;03m# we empty it and Python list are not thread-safe by\u001B[39;00m\n\u001B[1;32m   1767\u001B[0m \u001B[38;5;66;03m# default hence the use of the lock\u001B[39;00m\n",
      "\u001B[0;31mKeyboardInterrupt\u001B[0m: "
     ]
    }
   ],
   "execution_count": 26
  },
  {
   "cell_type": "code",
   "execution_count": null,
   "id": "122d232a-b493-44ac-a472-885aa61ee5b7",
   "metadata": {},
   "outputs": [],
   "source": [
    "## evaluate model\n",
    "y_pred = clf.predict(X_test)\n",
    "\n",
    "print(\"Accuracy:\", accuracy_score(y_test, y_pred))\n",
    "print(\"Macro F1-score:\", f1_score(y_test, y_pred, average='macro'))\n",
    "\n",
    "# Optional: Full classification report\n",
    "print(classification_report(y_test, y_pred, target_names=le.classes_))\n"
   ]
  },
  {
   "cell_type": "code",
   "execution_count": null,
   "id": "ac6a4251-22d0-44f3-9ad9-99f3e0391b6f",
   "metadata": {},
   "outputs": [],
   "source": [
    "## save encoding data for reuse \n",
    "\n",
    "np.savez(\"convenz_onehot_data.npz\", X_train=X_train, X_test=X_test, y_train=y_train, y_test=y_test, classes=le.classes_)\n"
   ]
  },
  {
   "cell_type": "code",
   "execution_count": null,
   "id": "3e4f2a0b-44f6-4bb7-8550-58b294c1d4c5",
   "metadata": {},
   "outputs": [],
   "source": [
    "from sklearn.model_selection import cross_val_score\n",
    "\n",
    "scores = cross_val_score(\n",
    "    clf,\n",
    "    X_train,\n",
    "    y_train,\n",
    "    cv=5,\n",
    "    scoring='f1_macro',\n",
    "    n_jobs=-1\n",
    ")\n"
   ]
  },
  {
   "cell_type": "code",
   "execution_count": null,
   "id": "c2fbbdfa-ec18-48fa-bd4f-44e56088841b",
   "metadata": {},
   "outputs": [],
   "source": [
    "print(\"5-fold cross-validated F1 scores:\", scores)\n",
    "print(\"Mean F1:\", scores.mean())\n"
   ]
  },
  {
   "cell_type": "markdown",
   "id": "8aa313a0-7ce7-494b-9d2d-0fb6a2f3fb03",
   "metadata": {},
   "source": [
    "## pytorch"
   ]
  },
  {
   "cell_type": "code",
   "execution_count": 55,
   "id": "794532a7-89de-4037-add1-8822365f882b",
   "metadata": {},
   "outputs": [],
   "source": [
    "\n",
    "import torch\n",
    "import torch.nn as nn\n",
    "import torch.optim as optim\n",
    "from torch.utils.data import DataLoader, TensorDataset\n",
    "from sklearn.preprocessing import LabelEncoder\n",
    "from sklearn.metrics import accuracy_score, f1_score\n"
   ]
  },
  {
   "cell_type": "code",
   "execution_count": 58,
   "id": "74d492eb-49dd-4d1a-adff-e1f21ed5f8e0",
   "metadata": {},
   "outputs": [],
   "source": [
    "## pytoch for faster training\n",
    "\n",
    "\n",
    "# Encode labels\n",
    "le = LabelEncoder()\n",
    "y_train_enc = le.fit_transform(y_train)\n",
    "y_test_enc = le.transform(y_test)\n",
    "\n",
    "# Convert to tensors and move to GPU if available\n",
    "device = torch.device(\"cuda\" if torch.cuda.is_available() else \"cpu\")\n",
    "\n",
    "X_train_tensor = torch.tensor(X_train, dtype=torch.float32).to(device)\n",
    "y_train_tensor = torch.tensor(y_train_enc, dtype=torch.long).to(device)\n",
    "\n",
    "X_test_tensor = torch.tensor(X_test, dtype=torch.float32).to(device)\n",
    "y_test_tensor = torch.tensor(y_test_enc, dtype=torch.long).to(device)\n",
    "\n",
    "# Dataset and DataLoader\n",
    "train_dataset = TensorDataset(X_train_tensor, y_train_tensor)\n",
    "train_loader = DataLoader(train_dataset, batch_size=64, shuffle=True)\n"
   ]
  },
  {
   "cell_type": "code",
   "execution_count": 59,
   "id": "ebf8ed9a-77c9-4706-bd6d-31457b8f17fe",
   "metadata": {},
   "outputs": [],
   "source": [
    "# Define model\n",
    "class LogisticRegression(nn.Module):\n",
    "    def __init__(self, input_dim, num_classes):\n",
    "        super().__init__()\n",
    "        self.linear = nn.Linear(input_dim, num_classes)\n",
    "\n",
    "    def forward(self, x):\n",
    "        return self.linear(x)\n",
    "\n",
    "model = LogisticRegression(input_dim=X_train.shape[1], num_classes=len(le.classes_)).to(device)\n"
   ]
  },
  {
   "cell_type": "code",
   "execution_count": 60,
   "id": "414b03f2-9b7f-4c9f-89fa-5c012999df41",
   "metadata": {},
   "outputs": [
    {
     "name": "stdout",
     "output_type": "stream",
     "text": [
      "Epoch 1, Loss: 186.2881\n",
      "Epoch 2, Loss: 26.3160\n",
      "Epoch 3, Loss: 7.5099\n",
      "Epoch 4, Loss: 3.8692\n",
      "Epoch 5, Loss: 2.2306\n",
      "Epoch 6, Loss: 1.4889\n",
      "Epoch 7, Loss: 1.0753\n",
      "Epoch 8, Loss: 0.7922\n",
      "Epoch 9, Loss: 0.6150\n",
      "Epoch 10, Loss: 0.4854\n",
      "Epoch 11, Loss: 0.3989\n",
      "Epoch 12, Loss: 0.3336\n",
      "Epoch 13, Loss: 0.2819\n",
      "Epoch 14, Loss: 0.2467\n",
      "Epoch 15, Loss: 0.2143\n",
      "Epoch 16, Loss: 0.1892\n",
      "Epoch 17, Loss: 0.1681\n",
      "Epoch 18, Loss: 0.1513\n",
      "Epoch 19, Loss: 0.1500\n",
      "Epoch 20, Loss: 0.1266\n",
      "Epoch 21, Loss: 0.1143\n",
      "Epoch 22, Loss: 0.1048\n",
      "Epoch 23, Loss: 0.0969\n",
      "Epoch 24, Loss: 0.0905\n",
      "Epoch 25, Loss: 0.0829\n",
      "Epoch 26, Loss: 0.0804\n",
      "Epoch 27, Loss: 0.0728\n",
      "Epoch 28, Loss: 0.0700\n",
      "Epoch 29, Loss: 0.0651\n",
      "Epoch 30, Loss: 0.0612\n",
      "Epoch 31, Loss: 0.0567\n",
      "Epoch 32, Loss: 0.0544\n",
      "Epoch 33, Loss: 0.0512\n",
      "Epoch 34, Loss: 0.0498\n",
      "Epoch 35, Loss: 0.0458\n",
      "Epoch 36, Loss: 0.0449\n",
      "Epoch 37, Loss: 0.0440\n",
      "Epoch 38, Loss: 0.0406\n",
      "Epoch 39, Loss: 0.0378\n",
      "Epoch 40, Loss: 0.0362\n",
      "Epoch 41, Loss: 0.0360\n",
      "Epoch 42, Loss: 0.0335\n",
      "Epoch 43, Loss: 0.0324\n",
      "Epoch 44, Loss: 0.0319\n",
      "Epoch 45, Loss: 0.0297\n",
      "Epoch 46, Loss: 0.0288\n",
      "Epoch 47, Loss: 0.0274\n",
      "Epoch 48, Loss: 0.0264\n",
      "Epoch 49, Loss: 0.0251\n",
      "Epoch 50, Loss: 0.0246\n",
      "Epoch 51, Loss: 0.0244\n",
      "Epoch 52, Loss: 0.0226\n",
      "Epoch 53, Loss: 0.0217\n",
      "Epoch 54, Loss: 0.0212\n",
      "Epoch 55, Loss: 0.0209\n",
      "Epoch 56, Loss: 0.0199\n",
      "Epoch 57, Loss: 0.0191\n",
      "Epoch 58, Loss: 0.0188\n",
      "Epoch 59, Loss: 0.0181\n",
      "Epoch 60, Loss: 0.0173\n",
      "Epoch 61, Loss: 0.0169\n",
      "Epoch 62, Loss: 0.0163\n",
      "Epoch 63, Loss: 0.0162\n",
      "Epoch 64, Loss: 0.0154\n",
      "Epoch 65, Loss: 0.0150\n",
      "Epoch 66, Loss: 0.0146\n",
      "Epoch 67, Loss: 0.0141\n",
      "Epoch 68, Loss: 0.0138\n",
      "Epoch 69, Loss: 0.0133\n",
      "Epoch 70, Loss: 0.0129\n",
      "Epoch 71, Loss: 0.0127\n",
      "Epoch 72, Loss: 0.0127\n",
      "Epoch 73, Loss: 0.0118\n",
      "Epoch 74, Loss: 0.0115\n",
      "Epoch 75, Loss: 0.0113\n",
      "Epoch 76, Loss: 0.0111\n",
      "Epoch 77, Loss: 0.0109\n",
      "Epoch 78, Loss: 0.0108\n",
      "Epoch 79, Loss: 0.0106\n",
      "Epoch 80, Loss: 0.0101\n",
      "Epoch 81, Loss: 0.0097\n",
      "Epoch 82, Loss: 0.0095\n",
      "Epoch 83, Loss: 0.0094\n",
      "Epoch 84, Loss: 0.0091\n",
      "Epoch 85, Loss: 0.0087\n",
      "Epoch 86, Loss: 0.0086\n",
      "Epoch 87, Loss: 0.0084\n",
      "Epoch 88, Loss: 0.0083\n",
      "Epoch 89, Loss: 0.0080\n",
      "Epoch 90, Loss: 0.0077\n",
      "Epoch 91, Loss: 0.0076\n",
      "Epoch 92, Loss: 0.0076\n",
      "Epoch 93, Loss: 0.0072\n",
      "Epoch 94, Loss: 0.0071\n",
      "Epoch 95, Loss: 0.0070\n",
      "Epoch 96, Loss: 0.0070\n",
      "Epoch 97, Loss: 0.0067\n",
      "Epoch 98, Loss: 0.0066\n",
      "Epoch 99, Loss: 0.0064\n",
      "Epoch 100, Loss: 0.0062\n",
      "Accuracy: 0.015\n",
      "Macro F1: 0.0125\n"
     ]
    }
   ],
   "source": [
    "\n",
    "# Loss and optimizer\n",
    "criterion = nn.CrossEntropyLoss()\n",
    "optimizer = optim.Adam(model.parameters(), lr=1e-3)\n",
    "\n",
    "# Training loop\n",
    "for epoch in range(100):\n",
    "    model.train()\n",
    "    total_loss = 0.0\n",
    "    for batch_x, batch_y in train_loader:\n",
    "        optimizer.zero_grad()\n",
    "        outputs = model(batch_x)\n",
    "        loss = criterion(outputs, batch_y)\n",
    "        loss.backward()\n",
    "        optimizer.step()\n",
    "        total_loss += loss.item()\n",
    "    print(f\"Epoch {epoch+1}, Loss: {total_loss:.4f}\")\n",
    "\n",
    "# Evaluation\n",
    "model.eval()\n",
    "with torch.no_grad():\n",
    "    logits = model(X_test_tensor)\n",
    "    preds = torch.argmax(logits, dim=1).cpu().numpy()\n",
    "    y_true = y_test_tensor.cpu().numpy()\n",
    "\n",
    "print(\"Accuracy:\", accuracy_score(y_true, preds))\n",
    "print(\"Macro F1:\", f1_score(y_true, preds, average='macro'))"
   ]
  },
  {
   "cell_type": "markdown",
   "id": "0300f8ab-97ef-45b7-a4c5-e92e3500daaa",
   "metadata": {},
   "source": [
    "## K-mer Count Feature Variant (e.g., 3-mers)\n"
   ]
  },
  {
   "cell_type": "code",
   "execution_count": 63,
   "id": "322583b8-c61d-45b5-b908-34ded8ca9ab5",
   "metadata": {},
   "outputs": [],
   "source": [
    "model = LogisticRegression(input_dim=X_train_kmer.shape[1], num_classes=len(le.classes_)).to(device)\n",
    "X_train_tensor = torch.tensor(X_train_kmer, dtype=torch.float32).to(device)\n",
    "X_test_tensor = torch.tensor(X_test_kmer, dtype=torch.float32).to(device)\n",
    "# Loss and optimizer\n",
    "criterion = nn.CrossEntropyLoss()\n",
    "optimizer = optim.Adam(model.parameters(), lr=1e-3)\n",
    "\n",
    "# Dataset and DataLoader\n",
    "train_dataset = TensorDataset(X_train_tensor, y_train_tensor)\n",
    "train_loader = DataLoader(train_dataset, batch_size=64, shuffle=True)\n"
   ]
  },
  {
   "cell_type": "code",
   "execution_count": 64,
   "id": "a13bc4d9-d04b-487c-ae53-1276eb7ebe0f",
   "metadata": {},
   "outputs": [
    {
     "name": "stdout",
     "output_type": "stream",
     "text": [
      "Epoch 1, Loss: 179.8290\n",
      "Epoch 2, Loss: 31.1953\n",
      "Epoch 3, Loss: 10.5838\n",
      "Epoch 4, Loss: 5.6556\n",
      "Epoch 5, Loss: 3.5489\n",
      "Epoch 6, Loss: 2.4338\n",
      "Epoch 7, Loss: 1.7198\n",
      "Epoch 8, Loss: 1.3128\n",
      "Epoch 9, Loss: 1.0092\n",
      "Epoch 10, Loss: 0.8111\n",
      "Epoch 11, Loss: 0.6477\n",
      "Epoch 12, Loss: 0.5384\n",
      "Epoch 13, Loss: 0.4605\n",
      "Epoch 14, Loss: 0.3873\n",
      "Epoch 15, Loss: 0.3373\n",
      "Epoch 16, Loss: 0.3029\n",
      "Epoch 17, Loss: 0.2632\n",
      "Epoch 18, Loss: 0.2355\n",
      "Epoch 19, Loss: 0.2127\n",
      "Epoch 20, Loss: 0.1911\n",
      "Epoch 21, Loss: 0.1780\n",
      "Epoch 22, Loss: 0.1640\n",
      "Epoch 23, Loss: 0.1483\n",
      "Epoch 24, Loss: 0.1356\n",
      "Epoch 25, Loss: 0.1276\n",
      "Epoch 26, Loss: 0.1190\n",
      "Epoch 27, Loss: 0.1104\n",
      "Epoch 28, Loss: 0.1068\n",
      "Epoch 29, Loss: 0.0974\n",
      "Epoch 30, Loss: 0.0909\n",
      "Epoch 31, Loss: 0.0866\n",
      "Epoch 32, Loss: 0.0825\n",
      "Epoch 33, Loss: 0.0761\n",
      "Epoch 34, Loss: 0.0728\n",
      "Epoch 35, Loss: 0.0698\n",
      "Epoch 36, Loss: 0.0662\n",
      "Epoch 37, Loss: 0.0623\n",
      "Epoch 38, Loss: 0.0598\n",
      "Epoch 39, Loss: 0.0567\n",
      "Epoch 40, Loss: 0.0554\n",
      "Epoch 41, Loss: 0.0522\n",
      "Epoch 42, Loss: 0.0494\n",
      "Epoch 43, Loss: 0.0476\n",
      "Epoch 44, Loss: 0.0454\n",
      "Epoch 45, Loss: 0.0454\n",
      "Epoch 46, Loss: 0.0426\n",
      "Epoch 47, Loss: 0.0425\n",
      "Epoch 48, Loss: 0.0389\n",
      "Epoch 49, Loss: 0.0374\n",
      "Epoch 50, Loss: 0.0382\n",
      "Epoch 51, Loss: 0.0347\n",
      "Epoch 52, Loss: 0.0335\n",
      "Epoch 53, Loss: 0.0322\n",
      "Epoch 54, Loss: 0.0316\n",
      "Epoch 55, Loss: 0.0301\n",
      "Epoch 56, Loss: 0.0292\n",
      "Epoch 57, Loss: 0.0287\n",
      "Epoch 58, Loss: 0.0272\n",
      "Epoch 59, Loss: 0.0268\n",
      "Epoch 60, Loss: 0.0258\n",
      "Epoch 61, Loss: 0.0252\n",
      "Epoch 62, Loss: 0.0244\n",
      "Epoch 63, Loss: 0.0235\n",
      "Epoch 64, Loss: 0.0228\n",
      "Epoch 65, Loss: 0.0222\n",
      "Epoch 66, Loss: 0.0214\n",
      "Epoch 67, Loss: 0.0208\n",
      "Epoch 68, Loss: 0.0208\n",
      "Epoch 69, Loss: 0.0196\n",
      "Epoch 70, Loss: 0.0193\n",
      "Epoch 71, Loss: 0.0184\n",
      "Epoch 72, Loss: 0.0184\n",
      "Epoch 73, Loss: 0.0177\n",
      "Epoch 74, Loss: 0.0172\n",
      "Epoch 75, Loss: 0.0168\n",
      "Epoch 76, Loss: 0.0169\n",
      "Epoch 77, Loss: 0.0157\n",
      "Epoch 78, Loss: 0.0154\n",
      "Epoch 79, Loss: 0.0149\n",
      "Epoch 80, Loss: 0.0148\n",
      "Epoch 81, Loss: 0.0141\n",
      "Epoch 82, Loss: 0.0140\n",
      "Epoch 83, Loss: 0.0137\n",
      "Epoch 84, Loss: 0.0132\n",
      "Epoch 85, Loss: 0.0132\n",
      "Epoch 86, Loss: 0.0126\n",
      "Epoch 87, Loss: 0.0124\n",
      "Epoch 88, Loss: 0.0119\n",
      "Epoch 89, Loss: 0.0117\n",
      "Epoch 90, Loss: 0.0115\n",
      "Epoch 91, Loss: 0.0115\n",
      "Epoch 92, Loss: 0.0109\n",
      "Epoch 93, Loss: 0.0109\n",
      "Epoch 94, Loss: 0.0107\n",
      "Epoch 95, Loss: 0.0102\n",
      "Epoch 96, Loss: 0.0099\n",
      "Epoch 97, Loss: 0.0096\n",
      "Epoch 98, Loss: 0.0096\n",
      "Epoch 99, Loss: 0.0093\n",
      "Epoch 100, Loss: 0.0090\n",
      "Accuracy: 0.0075\n",
      "Macro F1: 0.002572320841551611\n"
     ]
    }
   ],
   "source": [
    "\n",
    "\n",
    "# Training loop\n",
    "for epoch in range(100):\n",
    "    model.train()\n",
    "    total_loss = 0.0\n",
    "    for batch_x, batch_y in train_loader:\n",
    "        optimizer.zero_grad()\n",
    "        outputs = model(batch_x)\n",
    "        loss = criterion(outputs, batch_y)\n",
    "        loss.backward()\n",
    "        optimizer.step()\n",
    "        total_loss += loss.item()\n",
    "    print(f\"Epoch {epoch+1}, Loss: {total_loss:.4f}\")\n",
    "\n",
    "# Evaluation\n",
    "model.eval()\n",
    "with torch.no_grad():\n",
    "    logits = model(X_test_tensor)\n",
    "    preds = torch.argmax(logits, dim=1).cpu().numpy()\n",
    "    y_true = y_test_tensor.cpu().numpy()\n",
    "\n",
    "print(\"Accuracy:\", accuracy_score(y_true, preds))\n",
    "print(\"Macro F1:\", f1_score(y_true, preds, average='macro'))\n"
   ]
  },
  {
   "cell_type": "markdown",
   "id": "0f5aceca-d174-420a-8f6d-1320dd0b36e6",
   "metadata": {},
   "source": [
    "## blast based evaluation"
   ]
  },
  {
   "cell_type": "code",
   "execution_count": 65,
   "id": "f21a41d9-0750-40cd-821d-d24b834229b3",
   "metadata": {},
   "outputs": [
    {
     "data": {
      "text/plain": [
       "400"
      ]
     },
     "execution_count": 65,
     "metadata": {},
     "output_type": "execute_result"
    }
   ],
   "source": [
    "#step 1: write sequences to fasta\n",
    "from Bio.SeqRecord import SeqRecord\n",
    "from Bio.Seq import Seq\n",
    "from Bio import SeqIO\n",
    "\n",
    "# Write training sequences\n",
    "train_records = [\n",
    "    SeqRecord(Seq(seq), id=entry, description=label)\n",
    "    for seq, entry, label in zip(df_train[\"Sequence\"], df_train[\"Entry\"], df_train[\"Label\"])\n",
    "]\n",
    "SeqIO.write(train_records, \"train_set.fasta\", \"fasta\")\n",
    "\n",
    "# Write test sequences\n",
    "test_records = [\n",
    "    SeqRecord(Seq(seq), id=entry, description=label)\n",
    "    for seq, entry, label in zip(df_test[\"Sequence\"], df_test[\"Entry\"], df_test[\"Label\"])\n",
    "]\n",
    "SeqIO.write(test_records, \"test_set.fasta\", \"fasta\")\n"
   ]
  },
  {
   "cell_type": "code",
   "execution_count": 37,
   "id": "1aa33818-94b4-4211-88cc-f588d9bcd923",
   "metadata": {},
   "outputs": [],
   "source": [
    "# #run this from terminal and save the blast results.txt \n",
    "# #step 2 : create BLAST DB\n",
    "# !makeblastdb -in train_set.fasta -dbtype prot -out train_db\n",
    "# # step 3- run blast\n",
    "# !blastp -query test_set.fasta -db train_db -outfmt \"6 qseqid sseqid pident length\" -out blast_results.txt"
   ]
  },
  {
   "cell_type": "code",
   "execution_count": null,
   "id": "9739b0df-bdca-4512-b666-e6d627aae311",
   "metadata": {},
   "outputs": [],
   "source": [
    "## parse blast results and evaluate"
   ]
  },
  {
   "cell_type": "code",
   "execution_count": 66,
   "id": "c39ea1fb-fbee-455f-8b01-8f9bf6fceec2",
   "metadata": {},
   "outputs": [],
   "source": [
    "df_train[[\"Entry\", \"Label\"]].to_csv(\"train_metadata.csv\", index=False)\n",
    "df_test[[\"Entry\", \"Label\"]].to_csv(\"test_metadata.csv\", index=False)\n"
   ]
  },
  {
   "cell_type": "code",
   "execution_count": 67,
   "id": "5909c972-f81c-4ac3-874e-bdfa6cafefd9",
   "metadata": {},
   "outputs": [
    {
     "name": "stdout",
     "output_type": "stream",
     "text": [
      "BLAST Accuracy: 0.001869741352446245\n",
      "BLAST Macro F1: 0.0007941176470588235\n"
     ]
    }
   ],
   "source": [
    "\n",
    "# Load BLAST results\n",
    "blast_df = pd.read_csv(\"blast_results.txt\", sep=\"\\t\", header=None,\n",
    "                       names=[\"query\", \"subject\", \"pident\", \"length\", \"bitscore\"])\n",
    "\n",
    "# Load EC label mapping\n",
    "df_train = pd.read_csv(\"train_metadata.csv\")  # Contains Entry and Label\n",
    "df_test = pd.read_csv(\"test_metadata.csv\")\n",
    "\n",
    "entry_to_label = dict(zip(df_train[\"Entry\"], df_train[\"Label\"]))\n",
    "true_labels = dict(zip(df_test[\"Entry\"], df_test[\"Label\"]))\n",
    "\n",
    "# Predict using top BLAST hit\n",
    "blast_df[\"pred_label\"] = blast_df[\"subject\"].map(entry_to_label)\n",
    "blast_df[\"true_label\"] = blast_df[\"query\"].map(true_labels)\n",
    "\n",
    "# Drop NA (if any query had no match)\n",
    "blast_df = blast_df.dropna(subset=[\"pred_label\", \"true_label\"])\n",
    "\n",
    "from sklearn.metrics import accuracy_score, f1_score\n",
    "\n",
    "y_true = blast_df[\"true_label\"]\n",
    "y_pred = blast_df[\"pred_label\"]\n",
    "\n",
    "print(\"BLAST Accuracy:\", accuracy_score(y_true, y_pred))\n",
    "print(\"BLAST Macro F1:\", f1_score(y_true, y_pred, average='macro'))\n",
    "\n"
   ]
  },
  {
   "cell_type": "code",
   "execution_count": 68,
   "id": "645b7e97-66bd-4bf2-9ef3-6e9270e8e88d",
   "metadata": {},
   "outputs": [
    {
     "name": "stdout",
     "output_type": "stream",
     "text": [
      "1 test sequences had no BLAST hits.\n"
     ]
    }
   ],
   "source": [
    "## check for missing predictions\n",
    "missed = set(df_test[\"Entry\"]) - set(blast_df[\"query\"])\n",
    "print(f\"{len(missed)} test sequences had no BLAST hits.\")\n"
   ]
  },
  {
   "cell_type": "code",
   "execution_count": null,
   "id": "47af4c3b-5c74-46f8-b5fa-b9266ca4c239",
   "metadata": {},
   "outputs": [],
   "source": []
  }
 ],
 "metadata": {
  "kernelspec": {
   "display_name": "Python 3 (ipykernel)",
   "language": "python",
   "name": "python3"
  },
  "language_info": {
   "codemirror_mode": {
    "name": "ipython",
    "version": 3
   },
   "file_extension": ".py",
   "mimetype": "text/x-python",
   "name": "python",
   "nbconvert_exporter": "python",
   "pygments_lexer": "ipython3",
   "version": "3.10.12"
  }
 },
 "nbformat": 4,
 "nbformat_minor": 5
}
