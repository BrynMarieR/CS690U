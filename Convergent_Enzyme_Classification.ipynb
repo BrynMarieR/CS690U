{
 "cells": [
  {
   "cell_type": "markdown",
   "id": "5099197a-43e3-4dec-b76d-8a5780cc63d5",
   "metadata": {},
   "source": [
    "# DGEB Final Project Notebook: Traditional Models for Convergent Enzyme Classification\n",
    "\n",
    "## Authors: Mahbuba Tasmin & Bryn Reimer  \n",
    "Course: CS 690U — Spring 2025  \n",
    "Date: April 2025\n",
    "\n",
    "## Objective\n",
    "\n",
    "We aim to benchmark the performance of the following traditional approaches:\n",
    "- **Logistic regression** trained on one-hot encoded DNA sequences (512 bp max) as well as $k$-mer count features and amino acid properties-based encoding.\n",
    "- **BLAST**-based nearest-neighbor prediction using top alignment match from training data.\n",
    "\n",
    "The remainder of this notebook is structured as follows:\n",
    "1. Dataset loading and pre-processing\n",
    "2. One-hot encoding\n",
    "3. $k$-mer encoding\n",
    "4. Count encoding\n",
    "5. Properties encoding\n",
    "6. Logistic regression with pytorch\n",
    "7. BLAST-based baseline 1\n",
    "8. BLAST-based baseline 2\n",
    "9. ESM embeddings\n",
    "\n",
    "\n"
   ]
  },
  {
   "cell_type": "markdown",
   "id": "0283731e-5103-4185-999c-266d4aa7d3ea",
   "metadata": {},
   "source": "## Dataset loading and pre-processing\n"
  },
  {
   "cell_type": "code",
   "id": "084476fc-0d30-4127-b621-ff6a940a4cd4",
   "metadata": {
    "ExecuteTime": {
     "end_time": "2025-05-02T15:02:57.864820Z",
     "start_time": "2025-05-02T15:02:57.861502Z"
    }
   },
   "source": "from ce_utils import *",
   "outputs": [],
   "execution_count": 28
  },
  {
   "cell_type": "code",
   "id": "9e1cd35b-88db-4f78-bf99-64f85efe6787",
   "metadata": {
    "ExecuteTime": {
     "end_time": "2025-05-02T15:02:58.254841Z",
     "start_time": "2025-05-02T15:02:58.244820Z"
    }
   },
   "source": [
    "# Initial data were downloaded from the web using load_and_save_dataset.py\n",
    "df_train = pd.read_pickle('data/train_dataset.pkl')\n",
    "df_test = pd.read_pickle('data/test_dataset.pkl')"
   ],
   "outputs": [],
   "execution_count": 29
  },
  {
   "metadata": {
    "ExecuteTime": {
     "end_time": "2025-05-02T15:02:58.773796Z",
     "start_time": "2025-05-02T15:02:58.771251Z"
    }
   },
   "cell_type": "code",
   "source": [
    "print(f\"Train set: {df_train.shape}\")\n",
    "print(f\"Test set: {df_test.shape}\")"
   ],
   "id": "b0a544ea21fe247e",
   "outputs": [
    {
     "name": "stdout",
     "output_type": "stream",
     "text": [
      "Train set: (2000, 3)\n",
      "Test set: (400, 3)\n"
     ]
    }
   ],
   "execution_count": 30
  },
  {
   "metadata": {
    "ExecuteTime": {
     "end_time": "2025-05-02T15:02:59.126156Z",
     "start_time": "2025-05-02T15:02:59.120584Z"
    }
   },
   "cell_type": "code",
   "source": "df_test.head(2)",
   "id": "e14b4a12bf206e77",
   "outputs": [
    {
     "data": {
      "text/plain": [
       "    Entry    Label  \\\n",
       "0  Q9P7T7  2.7.7.1   \n",
       "1  Q9M8R4  4.4.1.5   \n",
       "\n",
       "                                                                                                                                                                                                                                                                                                                                                                                               Sequence  \n",
       "0                                                                                                                                             MDQAKKYANLLDSFRSSTEDILLLERLEVSDKPIYVLDSSFNPPHFAHLGMCLSIPKGSQLLLLLSITNADKPVAPAAFNERILMMEKLKTLIHNCTVSVAICKHALFVDKCRSISNKLGPREQVYLVGFDTLIRILDCKYYKEKAMQQVLQPFFSCSQILCFSREVDGTTTDDQAQYLEKIKKSLLPNIPSQWSEKIKLTKLKGNVGFGVSSTRARQAIISGDEETQRKIIPQEILNVIKVIQPYRHR  \n",
       "1  MANSRTVLILCGDYMEDYEVMVPFQALQAFGITVHTVCPGKKAGDSCPTAVHDFCGHQTYFESRGHNFTLNATFDEVDLSKYDGLVIPGGRAPEYLALTASVVELVKEFSRSGKPIASICHGQLILAAADTVNGRKCTAYATVGPSLVAAGAKWVEPITPDVCVVDGSLITAATYEGHPEFIQLFVKALGGKITGANKRILFLCGDYMEDYEVKVPFQSLQALGCQVDAVCPEKKAGDRCPTAIHDFEGDQTYSEKPGHTFALTTNFDDLVSSSYDALVIPGGRAPEYLALNEHVLNIVKEFMNSEKPVASICHGQQILAAAGVLKGRKCTAYPAVKLNVVLGGGTWLEPDPIDRCFTDGNLVTGAAWPGHPEFVSQLMALLGIQVSF  "
      ],
      "text/html": [
       "<div>\n",
       "<style scoped>\n",
       "    .dataframe tbody tr th:only-of-type {\n",
       "        vertical-align: middle;\n",
       "    }\n",
       "\n",
       "    .dataframe tbody tr th {\n",
       "        vertical-align: top;\n",
       "    }\n",
       "\n",
       "    .dataframe thead th {\n",
       "        text-align: right;\n",
       "    }\n",
       "</style>\n",
       "<table border=\"1\" class=\"dataframe\">\n",
       "  <thead>\n",
       "    <tr style=\"text-align: right;\">\n",
       "      <th></th>\n",
       "      <th>Entry</th>\n",
       "      <th>Label</th>\n",
       "      <th>Sequence</th>\n",
       "    </tr>\n",
       "  </thead>\n",
       "  <tbody>\n",
       "    <tr>\n",
       "      <th>0</th>\n",
       "      <td>Q9P7T7</td>\n",
       "      <td>2.7.7.1</td>\n",
       "      <td>MDQAKKYANLLDSFRSSTEDILLLERLEVSDKPIYVLDSSFNPPHFAHLGMCLSIPKGSQLLLLLSITNADKPVAPAAFNERILMMEKLKTLIHNCTVSVAICKHALFVDKCRSISNKLGPREQVYLVGFDTLIRILDCKYYKEKAMQQVLQPFFSCSQILCFSREVDGTTTDDQAQYLEKIKKSLLPNIPSQWSEKIKLTKLKGNVGFGVSSTRARQAIISGDEETQRKIIPQEILNVIKVIQPYRHR</td>\n",
       "    </tr>\n",
       "    <tr>\n",
       "      <th>1</th>\n",
       "      <td>Q9M8R4</td>\n",
       "      <td>4.4.1.5</td>\n",
       "      <td>MANSRTVLILCGDYMEDYEVMVPFQALQAFGITVHTVCPGKKAGDSCPTAVHDFCGHQTYFESRGHNFTLNATFDEVDLSKYDGLVIPGGRAPEYLALTASVVELVKEFSRSGKPIASICHGQLILAAADTVNGRKCTAYATVGPSLVAAGAKWVEPITPDVCVVDGSLITAATYEGHPEFIQLFVKALGGKITGANKRILFLCGDYMEDYEVKVPFQSLQALGCQVDAVCPEKKAGDRCPTAIHDFEGDQTYSEKPGHTFALTTNFDDLVSSSYDALVIPGGRAPEYLALNEHVLNIVKEFMNSEKPVASICHGQQILAAAGVLKGRKCTAYPAVKLNVVLGGGTWLEPDPIDRCFTDGNLVTGAAWPGHPEFVSQLMALLGIQVSF</td>\n",
       "    </tr>\n",
       "  </tbody>\n",
       "</table>\n",
       "</div>"
      ]
     },
     "execution_count": 31,
     "metadata": {},
     "output_type": "execute_result"
    }
   ],
   "execution_count": 31
  },
  {
   "metadata": {
    "ExecuteTime": {
     "end_time": "2025-05-02T15:02:59.488779Z",
     "start_time": "2025-05-02T15:02:59.483311Z"
    }
   },
   "cell_type": "code",
   "source": "df_train.head(5) # take a peek at the data",
   "id": "622bb52efffabb42",
   "outputs": [
    {
     "data": {
      "text/plain": [
       "    Entry    Label  \\\n",
       "0  A6UQM3  2.7.7.1   \n",
       "1  A2SS82  2.7.7.1   \n",
       "2  A0B5N0  2.7.7.1   \n",
       "3  Q9UXN8  2.7.7.1   \n",
       "4  B0R328  2.7.7.1   \n",
       "\n",
       "                                                                                                                                                                            Sequence  \n",
       "0       MRAFIVGRWQPFHKGHLEIIKKISEEVDEIIIGIGSCQRSHTLTDPFTAGERIMMITKALGRYNINYYIIPINDIDFNAVWVSCVESLTPPFDTVYTGNSLVRELFSEKNYVVKKPELYNRKEYSGTEIRKKMLKGEKWEHFVPEEVVDVILEIDGIGRIKRLDEKDYDDYF  \n",
       "1           MRRGLYVGRFQPFHNGHKAVIDGLAEEVDELIIGIGSADISHDIRHPFTAGERVLMITRALNGLKIPFYVIPLEDVKRNALWVAHVKSMVPPFDTVYTSNPLVIQLFKEAGIPVLSPPMYLRESLSGTAVRKKMYHGEAWEEYVPKEVVSVVGEIHGIERMQQISKSD  \n",
       "2         MRRGFYIGRFQPYHMGHHLVLEQISREVDEIIVGIGTAQISHTVTDPFTAGERIAMIYGALRELGRWFYIIPLPDINRNAVWVSHVKSMTPPFEVVYSNNPLVVELFMEAGMEVRRPPMYRREVYSGTVIRRLMIEGGDWRQLVPDAVAKVIDEIKGVERLRNISKKDFA  \n",
       "3      MRRAFYIGRFQPFHLGHYSLIKDIARDADEVVIGIGSAQKSHEPKNPFTAGERVMMIKHALEDAGIKHYAIPLEDLQRNAVWVSHIISMTPPFDVVYSNNPLVVRLFQESGILVEQPPMYQREGYSGSEIRKRMLRGEDWKSLVPAAVIDVIDEIDGVNRLKSVSKSDKDYRD  \n",
       "4  MTRGFYIGRFQPFHTGHRRVIEQIATEVDELVVGIGSAGDSHSARNPFTAGERIMMITKALVEFNLVTYAVPIEDLERNAVWVSHVRSMCPKFEVAYSNNPLVIRLFNEAAVEVRQPPMYDRDVLEGAEIRRRMADGDDWESLVPDAVADVVAEIDGVERIQHVADTDANGHDSGLR  "
      ],
      "text/html": [
       "<div>\n",
       "<style scoped>\n",
       "    .dataframe tbody tr th:only-of-type {\n",
       "        vertical-align: middle;\n",
       "    }\n",
       "\n",
       "    .dataframe tbody tr th {\n",
       "        vertical-align: top;\n",
       "    }\n",
       "\n",
       "    .dataframe thead th {\n",
       "        text-align: right;\n",
       "    }\n",
       "</style>\n",
       "<table border=\"1\" class=\"dataframe\">\n",
       "  <thead>\n",
       "    <tr style=\"text-align: right;\">\n",
       "      <th></th>\n",
       "      <th>Entry</th>\n",
       "      <th>Label</th>\n",
       "      <th>Sequence</th>\n",
       "    </tr>\n",
       "  </thead>\n",
       "  <tbody>\n",
       "    <tr>\n",
       "      <th>0</th>\n",
       "      <td>A6UQM3</td>\n",
       "      <td>2.7.7.1</td>\n",
       "      <td>MRAFIVGRWQPFHKGHLEIIKKISEEVDEIIIGIGSCQRSHTLTDPFTAGERIMMITKALGRYNINYYIIPINDIDFNAVWVSCVESLTPPFDTVYTGNSLVRELFSEKNYVVKKPELYNRKEYSGTEIRKKMLKGEKWEHFVPEEVVDVILEIDGIGRIKRLDEKDYDDYF</td>\n",
       "    </tr>\n",
       "    <tr>\n",
       "      <th>1</th>\n",
       "      <td>A2SS82</td>\n",
       "      <td>2.7.7.1</td>\n",
       "      <td>MRRGLYVGRFQPFHNGHKAVIDGLAEEVDELIIGIGSADISHDIRHPFTAGERVLMITRALNGLKIPFYVIPLEDVKRNALWVAHVKSMVPPFDTVYTSNPLVIQLFKEAGIPVLSPPMYLRESLSGTAVRKKMYHGEAWEEYVPKEVVSVVGEIHGIERMQQISKSD</td>\n",
       "    </tr>\n",
       "    <tr>\n",
       "      <th>2</th>\n",
       "      <td>A0B5N0</td>\n",
       "      <td>2.7.7.1</td>\n",
       "      <td>MRRGFYIGRFQPYHMGHHLVLEQISREVDEIIVGIGTAQISHTVTDPFTAGERIAMIYGALRELGRWFYIIPLPDINRNAVWVSHVKSMTPPFEVVYSNNPLVVELFMEAGMEVRRPPMYRREVYSGTVIRRLMIEGGDWRQLVPDAVAKVIDEIKGVERLRNISKKDFA</td>\n",
       "    </tr>\n",
       "    <tr>\n",
       "      <th>3</th>\n",
       "      <td>Q9UXN8</td>\n",
       "      <td>2.7.7.1</td>\n",
       "      <td>MRRAFYIGRFQPFHLGHYSLIKDIARDADEVVIGIGSAQKSHEPKNPFTAGERVMMIKHALEDAGIKHYAIPLEDLQRNAVWVSHIISMTPPFDVVYSNNPLVVRLFQESGILVEQPPMYQREGYSGSEIRKRMLRGEDWKSLVPAAVIDVIDEIDGVNRLKSVSKSDKDYRD</td>\n",
       "    </tr>\n",
       "    <tr>\n",
       "      <th>4</th>\n",
       "      <td>B0R328</td>\n",
       "      <td>2.7.7.1</td>\n",
       "      <td>MTRGFYIGRFQPFHTGHRRVIEQIATEVDELVVGIGSAGDSHSARNPFTAGERIMMITKALVEFNLVTYAVPIEDLERNAVWVSHVRSMCPKFEVAYSNNPLVIRLFNEAAVEVRQPPMYDRDVLEGAEIRRRMADGDDWESLVPDAVADVVAEIDGVERIQHVADTDANGHDSGLR</td>\n",
       "    </tr>\n",
       "  </tbody>\n",
       "</table>\n",
       "</div>"
      ]
     },
     "execution_count": 32,
     "metadata": {},
     "output_type": "execute_result"
    }
   ],
   "execution_count": 32
  },
  {
   "metadata": {
    "ExecuteTime": {
     "end_time": "2025-05-02T15:03:00.401122Z",
     "start_time": "2025-05-02T15:02:59.914687Z"
    }
   },
   "cell_type": "code",
   "source": [
    "# check sequence lengths\n",
    "seq_lengths = df_train[\"Sequence\"].apply(len)\n",
    "\n",
    "print(seq_lengths.describe())\n",
    "\n",
    "seq_lengths.plot.hist(xlabel=\"Sequence length\", \n",
    "                      ylabel=\"Frequency\", \n",
    "                      title=\"Sequence lengths across training samples\")"
   ],
   "id": "7b8bb28239a2b19",
   "outputs": [
    {
     "name": "stdout",
     "output_type": "stream",
     "text": [
      "count    2000.00000\n",
      "mean      415.43800\n",
      "std       276.45399\n",
      "min        55.00000\n",
      "25%       239.00000\n",
      "50%       348.00000\n",
      "75%       514.50000\n",
      "max      3004.00000\n",
      "Name: Sequence, dtype: float64\n"
     ]
    },
    {
     "data": {
      "text/plain": [
       "<Axes: title={'center': 'Sequence lengths across training samples'}, xlabel='Sequence length', ylabel='Frequency'>"
      ]
     },
     "execution_count": 33,
     "metadata": {},
     "output_type": "execute_result"
    },
    {
     "data": {
      "text/plain": [
       "<Figure size 640x480 with 1 Axes>"
      ],
      "image/png": "[encoded data removed]"
     },
     "metadata": {},
     "output_type": "display_data"
    }
   ],
   "execution_count": 33
  },
  {
   "metadata": {
    "ExecuteTime": {
     "end_time": "2025-05-02T15:03:00.593167Z",
     "start_time": "2025-05-02T15:03:00.475625Z"
    }
   },
   "cell_type": "code",
   "source": [
    "# check sequence lengths\n",
    "test_seq_lengths = df_test[\"Sequence\"].apply(len)\n",
    "\n",
    "test_seq_lengths.plot.hist(xlabel=\"Sequence length\", \n",
    "                      ylabel=\"Frequency\", \n",
    "                      title=\"Sequence lengths across test samples\")"
   ],
   "id": "da0f08e1baaf7c9a",
   "outputs": [
    {
     "data": {
      "text/plain": [
       "<Axes: title={'center': 'Sequence lengths across test samples'}, xlabel='Sequence length', ylabel='Frequency'>"
      ]
     },
     "execution_count": 34,
     "metadata": {},
     "output_type": "execute_result"
    },
    {
     "data": {
      "text/plain": [
       "<Figure size 640x480 with 1 Axes>"
      ],
      "image/png": "[encoded data removed]"
     },
     "metadata": {},
     "output_type": "display_data"
    }
   ],
   "execution_count": 34
  },
  {
   "cell_type": "markdown",
   "id": "a3926d7e-a32d-4649-868b-8aac6390b080",
   "metadata": {},
   "source": "## One-hot encoding"
  },
  {
   "cell_type": "code",
   "id": "89afc527-307e-4b1e-8b9e-6642be8242e5",
   "metadata": {
    "ExecuteTime": {
     "end_time": "2025-05-02T15:03:01.074753Z",
     "start_time": "2025-05-02T15:03:01.072084Z"
    }
   },
   "source": [
    "# Define the standard 20 amino acids\n",
    "# Plus U for selenocysteine which is present in some of our samples\n",
    "AMINO_ACIDS = \"ACDEFGHIKLMNPQRSTUVWY\"\n",
    "\n",
    "def one_hot_encode_protein(seq, max_len=512):\n",
    "    encoding = np.zeros((max_len, len(AMINO_ACIDS)), dtype=np.int8)\n",
    "    for i, aa in enumerate(seq[:max_len]):\n",
    "        if aa != \"X\":\n",
    "            encoding[i, AMINO_ACIDS.index(aa)] = 1\n",
    "    return encoding.flatten()  # Shape: (max_len * 21,)"
   ],
   "outputs": [],
   "execution_count": 35
  },
  {
   "cell_type": "code",
   "id": "43ac1c78-fa42-4773-bde7-00f9da5ccb24",
   "metadata": {
    "ExecuteTime": {
     "end_time": "2025-05-02T15:03:01.729540Z",
     "start_time": "2025-05-02T15:03:01.501060Z"
    }
   },
   "source": [
    "## Apply encoding to all sequences, full length\n",
    "X_train = np.stack(df_train[\"Sequence\"].map(lambda s: one_hot_encode_protein(s, max_len=3004)))\n",
    "X_test = np.stack(df_test[\"Sequence\"].map(lambda s: one_hot_encode_protein(s, max_len=3004)))\n",
    "\n",
    "# Check shape\n",
    "print(f\"One-hot encoded train set shape: {X_train.shape}\")\n",
    "print(f\"One-hot encoded test set shape: {X_test.shape}\")"
   ],
   "outputs": [
    {
     "name": "stdout",
     "output_type": "stream",
     "text": [
      "One-hot encoded train set shape: (2000, 63084)\n",
      "One-hot encoded test set shape: (400, 63084)\n"
     ]
    }
   ],
   "execution_count": 36
  },
  {
   "metadata": {},
   "cell_type": "markdown",
   "source": "## $k$-mer encoding",
   "id": "a8deee60585e0a48"
  },
  {
   "metadata": {
    "ExecuteTime": {
     "end_time": "2025-05-02T15:03:06.418702Z",
     "start_time": "2025-05-02T15:03:02.591015Z"
    }
   },
   "cell_type": "code",
   "source": [
    "from collections import Counter\n",
    "from itertools import product\n",
    "\n",
    "def kmer_features_protein(seq, k=3):\n",
    "    # Define k-mer vocabulary from 20 amino acids\n",
    "    vocab = [''.join(p) for p in product(AMINO_ACIDS, repeat=k)]\n",
    "    counts = Counter([seq[i:i+k] for i in range(len(seq)-k+1)])\n",
    "    return np.array([counts.get(kmer, 0) for kmer in vocab], dtype=np.float32)\n",
    "\n",
    "X_train_kmer = np.stack(df_train[\"Sequence\"].map(lambda s: kmer_features_protein(s, k=3)))\n",
    "X_test_kmer = np.stack(df_test[\"Sequence\"].map(lambda s: kmer_features_protein(s, k=3)))\n",
    "\n",
    "print(\"Shape of 3-mer train feature matrix:\", X_train_kmer.shape)\n",
    "print(\"Shape of 3-mer test feature matrix:\", X_test_kmer.shape)"
   ],
   "id": "4a89a3a93d588b44",
   "outputs": [
    {
     "name": "stdout",
     "output_type": "stream",
     "text": [
      "Shape of 3-mer train feature matrix: (2000, 9261)\n",
      "Shape of 3-mer test feature matrix: (400, 9261)\n"
     ]
    }
   ],
   "execution_count": 37
  },
  {
   "metadata": {},
   "cell_type": "markdown",
   "source": "## Count encoding",
   "id": "e6a7f6a8351174de"
  },
  {
   "metadata": {
    "ExecuteTime": {
     "end_time": "2025-05-02T15:03:06.544182Z",
     "start_time": "2025-05-02T15:03:06.448745Z"
    }
   },
   "cell_type": "code",
   "source": [
    "def count_features_protein(seq):\n",
    "    vocab = list(AMINO_ACIDS)\n",
    "    counts = Counter([seq[i:i+1] for i in range(len(seq)-1+1)])\n",
    "    return np.array([counts.get(kmer, 0) for kmer in vocab], dtype=np.float32)\n",
    "\n",
    "X_train_count = np.stack(df_train[\"Sequence\"].map(lambda s: count_features_protein(s)))\n",
    "X_test_count = np.stack(df_test[\"Sequence\"].map(lambda s: count_features_protein(s)))\n",
    "\n",
    "\n",
    "print(\"Shape of count-encoded train feature matrix:\", X_train_count.shape)\n",
    "print(\"Shape of count-encoded test feature matrix:\", X_test_count.shape)"
   ],
   "id": "9eacd84f0f620722",
   "outputs": [
    {
     "name": "stdout",
     "output_type": "stream",
     "text": [
      "Shape of count-encoded train feature matrix: (2000, 21)\n",
      "Shape of count-encoded test feature matrix: (400, 21)\n"
     ]
    }
   ],
   "execution_count": 38
  },
  {
   "metadata": {},
   "cell_type": "markdown",
   "source": "## Physico-chemical amino acid descriptors",
   "id": "9b83d6861dc17395"
  },
  {
   "metadata": {
    "ExecuteTime": {
     "end_time": "2025-05-02T15:03:15.535484Z",
     "start_time": "2025-05-02T15:03:08.179883Z"
    }
   },
   "cell_type": "code",
   "source": [
    "# !pip install peptides\n",
    "import peptides\n",
    "\n",
    "def encode_peptide(s):\n",
    "    return peptides.Peptide(s).descriptors()\n",
    "\n",
    "X_train_properties = pd.DataFrame([ peptides.Peptide(s).descriptors() for s in df_train[\"Sequence\"].to_list() ])\n",
    "X_test_properties = pd.DataFrame([ peptides.Peptide(s).descriptors() for s in df_test[\"Sequence\"].to_list() ])\n",
    "\n",
    "print(\"Shape of properties-based train feature matrix:\", X_train_properties.shape)\n",
    "print(\"Shape of properties-based test feature matrix:\", X_test_properties.shape)"
   ],
   "id": "eeccd8b4acfd26b4",
   "outputs": [
    {
     "name": "stdout",
     "output_type": "stream",
     "text": [
      "Shape of properties-based train feature matrix: (2000, 102)\n",
      "Shape of properties-based test feature matrix: (400, 102)\n"
     ]
    }
   ],
   "execution_count": 39
  },
  {
   "cell_type": "markdown",
   "id": "d3848a15-f6eb-4032-8c6a-6221f471527d",
   "metadata": {
    "jp-MarkdownHeadingCollapsed": true,
    "tags": []
   },
   "source": "## Logistic Regression with Pytorch"
  },
  {
   "metadata": {
    "ExecuteTime": {
     "end_time": "2025-05-02T15:03:15.568673Z",
     "start_time": "2025-05-02T15:03:15.564269Z"
    }
   },
   "cell_type": "code",
   "source": [
    "from ce_utils import run_logistic_regression\n",
    "\n",
    "## Encode EC labels as integer labels\n",
    "le = LabelEncoder()\n",
    "y_train = le.fit_transform(df_train[\"Label\"])\n",
    "y_test = le.transform(df_test[\"Label\"])\n",
    "\n",
    "# Optional: Show label classes\n",
    "print(\"Classes:\", le.classes_)"
   ],
   "id": "5132c227da5a7762",
   "outputs": [
    {
     "name": "stdout",
     "output_type": "stream",
     "text": [
      "Classes: ['1.1.1.1' '1.1.1.103' '1.1.1.169' '1.1.1.17' '1.1.1.2' '1.1.1.27'\n",
      " '1.1.1.35' '1.1.1.37' '1.1.1.42' '1.1.1.47' '1.1.5.3' '1.11.1.24'\n",
      " '1.11.1.28' '1.11.1.5' '1.11.1.6' '1.11.1.7' '1.12.98.1' '1.13.11.24'\n",
      " '1.14.11.27' '1.14.13.25' '1.14.13.39' '1.14.14.18' '1.14.18.1'\n",
      " '1.14.99.60' '1.15.1.1' '1.16.1.9' '1.16.3.1' '1.17.1.4' '1.17.1.9'\n",
      " '1.17.4.1' '1.17.99.6' '1.17.99.9' '1.18.1.2' '1.18.1.3' '1.18.6.1'\n",
      " '1.2.1.10' '1.2.4.1' '1.2.4.4' '1.2.7.1' '1.2.7.12' '1.2.7.3' '1.20.4.1'\n",
      " '1.3.1.104' '1.3.1.9' '1.3.5.1' '1.3.7.7' '1.4.1.1' '1.4.1.13' '1.4.1.2'\n",
      " '1.4.3.5' '1.5.1.2' '1.5.1.3' '1.5.1.36' '1.5.1.42' '1.5.3.24' '1.5.98.3'\n",
      " '1.6.5.2' '1.6.5.9' '1.7.5.1' '1.8.1.2' '1.8.1.8' '1.8.1.9' '1.8.3.2'\n",
      " '1.97.1.12' '2.1.1.17' '2.1.1.228' '2.1.1.320' '2.1.1.33' '2.1.1.355'\n",
      " '2.1.1.37' '2.1.1.56' '2.1.1.57' '2.1.1.72' '2.1.1.85' '2.1.1.86'\n",
      " '2.1.3.15' '2.2.1.6' '2.3.1.1' '2.3.1.15' '2.3.1.180' '2.3.1.181'\n",
      " '2.3.1.184' '2.3.1.199' '2.3.1.20' '2.3.1.225' '2.3.1.28' '2.3.1.30'\n",
      " '2.3.1.31' '2.3.1.46' '2.3.1.48' '2.3.1.51' '2.3.1.75' '2.3.1.97'\n",
      " '2.3.2.13' '2.3.2.23' '2.3.2.26' '2.3.2.27' '2.3.2.36' '2.3.3.9'\n",
      " '2.4.1.109' '2.4.1.122' '2.4.1.129' '2.4.1.17' '2.4.1.18' '2.4.1.198'\n",
      " '2.4.1.25' '2.4.2.1' '2.4.2.10' '2.4.2.17' '2.4.2.31' '2.4.2.8' '2.4.2.9'\n",
      " '2.5.1.145' '2.5.1.16' '2.5.1.18' '2.5.1.3' '2.5.1.54' '2.5.1.6'\n",
      " '2.5.1.60' '2.5.1.78' '2.5.1.9' '2.6.1.1' '2.6.1.57' '2.7.1.107'\n",
      " '2.7.1.11' '2.7.1.121' '2.7.1.148' '2.7.1.2' '2.7.1.202' '2.7.1.21'\n",
      " '2.7.1.23' '2.7.1.24' '2.7.1.31' '2.7.1.33' '2.7.1.39' '2.7.1.4'\n",
      " '2.7.1.48' '2.7.1.67' '2.7.1.71' '2.7.10.2' '2.7.11.1' '2.7.11.22'\n",
      " '2.7.12.1' '2.7.13.3' '2.7.2.1' '2.7.4.1' '2.7.4.2' '2.7.4.25' '2.7.4.3'\n",
      " '2.7.4.9' '2.7.6.3' '2.7.7.1' '2.7.7.101' '2.7.7.108' '2.7.7.12'\n",
      " '2.7.7.15' '2.7.7.19' '2.7.7.2' '2.7.7.24' '2.7.7.3' '2.7.7.4' '2.7.7.41'\n",
      " '2.7.7.48' '2.7.7.49' '2.7.7.50' '2.7.7.6' '2.7.7.65' '2.7.7.7'\n",
      " '2.7.7.72' '2.7.7.77' '2.7.7.85' '2.7.7.9' '2.7.8.26' '2.7.8.37'\n",
      " '2.7.8.5' '2.7.8.7' '2.7.8.8' '2.8.1.1' '2.8.4.1' '3.1.1.1' '3.1.1.29'\n",
      " '3.1.1.3' '3.1.1.31' '3.1.1.32' '3.1.1.4' '3.1.1.5' '3.1.1.73' '3.1.1.74'\n",
      " '3.1.1.96' '3.1.11.2' '3.1.11.6' '3.1.13.1' '3.1.13.4' '3.1.2.22'\n",
      " '3.1.2.28' '3.1.21.1' '3.1.21.10' '3.1.21.2' '3.1.21.4' '3.1.26.11'\n",
      " '3.1.26.3' '3.1.26.4' '3.1.26.5' '3.1.3.1' '3.1.3.11' '3.1.3.12'\n",
      " '3.1.3.15' '3.1.3.16' '3.1.3.18' '3.1.3.2' '3.1.3.25' '3.1.3.27'\n",
      " '3.1.3.3' '3.1.3.48' '3.1.3.5' '3.1.3.64' '3.1.3.84' '3.1.3.89'\n",
      " '3.1.4.12' '3.1.4.17' '3.1.4.3' '3.1.4.35' '3.1.4.37' '3.1.4.4'\n",
      " '3.1.4.46' '3.1.4.53' '3.2.1.1' '3.2.1.14' '3.2.1.15' '3.2.1.17'\n",
      " '3.2.1.18' '3.2.1.20' '3.2.1.21' '3.2.1.22' '3.2.1.23' '3.2.1.24'\n",
      " '3.2.1.26' '3.2.1.28' '3.2.1.3' '3.2.1.31' '3.2.1.35' '3.2.1.37'\n",
      " '3.2.1.39' '3.2.1.4' '3.2.1.51' '3.2.1.52' '3.2.1.55' '3.2.1.58'\n",
      " '3.2.1.6' '3.2.1.67' '3.2.1.73' '3.2.1.78' '3.2.1.8' '3.2.1.81'\n",
      " '3.2.1.86' '3.2.1.91' '3.2.1.96' '3.2.2.22' '3.2.2.27' '3.2.2.5'\n",
      " '3.2.2.6' '3.4.11.18' '3.4.13.19' '3.4.14.10' '3.4.16.4' '3.4.19.12'\n",
      " '3.4.21.105' '3.4.21.62' '3.4.21.89' '3.4.23.36' '3.5.1.1' '3.5.1.2'\n",
      " '3.5.1.23' '3.5.1.28' '3.5.1.4' '3.5.1.44' '3.5.1.5' '3.5.1.52' '3.5.1.9'\n",
      " '3.5.1.98' '3.5.2.17' '3.5.2.3' '3.5.2.6' '3.5.2.9' '3.5.3.4' '3.5.4.16'\n",
      " '3.5.4.2' '3.5.4.4' '3.5.4.5' '3.5.99.6' '3.6.1.1' '3.6.1.10' '3.6.1.15'\n",
      " '3.6.1.23' '3.6.1.27' '3.6.1.31' '3.6.1.41' '3.6.1.5' '3.6.1.54'\n",
      " '3.6.1.7' '3.6.1.9' '3.6.4.10' '3.6.4.12' '3.6.4.13' '3.6.5.2' '4.1.1.11'\n",
      " '4.1.1.17' '4.1.1.19' '4.1.1.23' '4.1.1.31' '4.1.1.50' '4.1.1.65'\n",
      " '4.1.2.13' '4.1.2.25' '4.1.3.27' '4.1.3.39' '4.1.3.40' '4.1.99.5'\n",
      " '4.2.1.1' '4.2.1.10' '4.2.1.17' '4.2.1.2' '4.2.1.20' '4.2.1.33'\n",
      " '4.2.1.59' '4.2.1.8' '4.2.1.84' '4.2.1.96' '4.2.2.2' '4.2.2.n1'\n",
      " '4.2.99.18' '4.3.1.17' '4.3.1.18' '4.3.1.7' '4.3.2.3' '4.4.1.13'\n",
      " '4.4.1.3' '4.4.1.5' '4.6.1.1' '4.6.1.16' '4.6.1.2' '4.6.1.24' '4.98.1.1'\n",
      " '5.1.1.1' '5.1.1.3' '5.2.1.8' '5.3.1.1' '5.3.1.16' '5.3.1.24' '5.3.1.6'\n",
      " '5.3.1.8' '5.3.1.9' '5.3.3.2' '5.3.4.1' '5.4.2.12' '5.4.2.7' '5.4.2.8'\n",
      " '5.4.99.1' '5.4.99.12' '5.4.99.25' '5.4.99.5' '5.5.1.6' '5.6.2.1'\n",
      " '5.6.2.2' '5.6.2.3' '5.6.2.4' '6.1.1.1' '6.1.1.11' '6.1.1.14' '6.1.1.2'\n",
      " '6.1.1.20' '6.1.1.6' '6.2.1.1' '6.2.1.12' '6.2.1.5' '6.3.1.2' '6.3.1.20'\n",
      " '6.3.2.2' '6.3.2.3' '6.3.2.6' '6.3.4.19' '6.3.5.2' '6.3.5.3' '6.4.1.3'\n",
      " '6.5.1.1' '6.5.1.2' '6.5.1.3' '6.6.1.1' '7.1.1.2' '7.1.1.7' '7.1.1.8'\n",
      " '7.1.1.9' '7.1.2.2' '7.2.1.1' '7.2.2.10' '7.2.2.20' '7.2.4.2' '7.2.4.3'\n",
      " '7.4.2.8' '7.6.2.1']\n"
     ]
    }
   ],
   "execution_count": 40
  },
  {
   "cell_type": "code",
   "id": "74d492eb-49dd-4d1a-adff-e1f21ed5f8e0",
   "metadata": {
    "ExecuteTime": {
     "end_time": "2025-05-02T15:17:35.153421Z",
     "start_time": "2025-05-02T15:11:24.874977Z"
    }
   },
   "source": [
    "\n",
    "(acc, f1, num_corr) = run_logistic_regression(X_train, y_train, X_test, y_test, \n",
    "                                              n_epochs=100, verbose=False)\n",
    "print(f\"One-hot encoding Accuracy: {acc:.4f}, F1-score: {f1:0.4f}, Num correct: {num_corr}\")\n",
    "\n",
    "for k in [1,2,3,4]:\n",
    "    print(\"---\")\n",
    "    X_train_kmer = np.stack(df_train[\"Sequence\"].map(lambda s: kmer_features_protein(s, k=k)))\n",
    "    X_test_kmer = np.stack(df_test[\"Sequence\"].map(lambda s: kmer_features_protein(s, k=k)))\n",
    "    (acc, f1, num_corr) = run_logistic_regression(X_train_kmer, y_train, X_test_kmer, y_test, \n",
    "                                              n_epochs=100, verbose=False)\n",
    "    print(f\"{k}-mer Accuracy: {acc:.4f}, F1-score: {f1:0.4f}, Num correct: {num_corr}\")\n",
    "\n",
    "\n",
    "print(\"---\")\n",
    "(acc, f1, num_corr) = run_logistic_regression(X_train_count, y_train, X_test_count, y_test, \n",
    "                                              n_epochs=1000, verbose=False)\n",
    "print(f\"Count Encoding Accuracy: {acc:.4f}, F1-score: {f1:0.4f}, Num correct: {num_corr}\")\n"
   ],
   "outputs": [
    {
     "name": "stdout",
     "output_type": "stream",
     "text": [
      "One-hot encoding Accuracy: 0.0250, F1-score: 0.0168, Num correct: 10\n",
      "---\n",
      "1-mer Accuracy: 0.0025, F1-score: 0.0003, Num correct: 1\n",
      "---\n",
      "2-mer Accuracy: 0.0300, F1-score: 0.0181, Num correct: 12\n",
      "---\n",
      "3-mer Accuracy: 0.0175, F1-score: 0.0107, Num correct: 7\n",
      "---\n",
      "4-mer Accuracy: 0.0075, F1-score: 0.0019, Num correct: 3\n",
      "---\n",
      "Count Encoding Accuracy: 0.0200, F1-score: 0.0179, Num correct: 8\n"
     ]
    }
   ],
   "execution_count": 42
  },
  {
   "metadata": {
    "ExecuteTime": {
     "end_time": "2025-05-02T15:09:46.910682Z",
     "start_time": "2025-05-02T14:55:14.832530Z"
    }
   },
   "cell_type": "code",
   "source": [
    "print(\"---\")\n",
    "(acc, f1, num_corr) = run_logistic_regression(np.array(X_train_properties), y_train, \n",
    "                                              np.array(X_test_properties), y_test, \n",
    "                                              n_epochs=1000, verbose=False)\n",
    "print(f\"Properties Encoding Accuracy: {acc:.4f}, F1-score: {f1:0.4f}, Num correct: {num_corr}\")"
   ],
   "id": "3523f71c67845a5e",
   "outputs": [
    {
     "name": "stdout",
     "output_type": "stream",
     "text": [
      "---\n",
      "Properties Encoding Accuracy: 0.0150, F1-score: 0.0104, Num correct: 6\n"
     ]
    }
   ],
   "execution_count": 26
  },
  {
   "cell_type": "markdown",
   "id": "0f5aceca-d174-420a-8f6d-1320dd0b36e6",
   "metadata": {},
   "source": [
    "## Using BLAST to find nearest-neighbors\n",
    "\n",
    "### Blast Approach 1"
   ]
  },
  {
   "cell_type": "code",
   "id": "f21a41d9-0750-40cd-821d-d24b834229b3",
   "metadata": {
    "ExecuteTime": {
     "end_time": "2025-05-01T19:01:52.534903Z",
     "start_time": "2025-05-01T19:01:52.141930Z"
    }
   },
   "source": [
    "#step 1: write sequences to fasta\n",
    "from Bio.SeqRecord import SeqRecord\n",
    "from Bio.Seq import Seq\n",
    "from Bio import SeqIO\n",
    "\n",
    "# Write training sequences\n",
    "train_records = [\n",
    "    SeqRecord(Seq(seq), id=entry, description=label)\n",
    "    for seq, entry, label in zip(df_train[\"Sequence\"], df_train[\"Entry\"], df_train[\"Label\"])\n",
    "]\n",
    "SeqIO.write(train_records, \"data/train_set_for_blast.fasta\", \"fasta\")\n",
    "\n",
    "# Write test sequences\n",
    "test_records = [\n",
    "    SeqRecord(Seq(seq), id=entry, description=label)\n",
    "    for seq, entry, label in zip(df_test[\"Sequence\"], df_test[\"Entry\"], df_test[\"Label\"])\n",
    "]\n",
    "SeqIO.write(test_records, \"data/test_set_for_blast.fasta\", \"fasta\")\n"
   ],
   "outputs": [
    {
     "data": {
      "text/plain": [
       "400"
      ]
     },
     "execution_count": 17,
     "metadata": {},
     "output_type": "execute_result"
    }
   ],
   "execution_count": 17
  },
  {
   "cell_type": "code",
   "execution_count": 37,
   "id": "1aa33818-94b4-4211-88cc-f588d9bcd923",
   "metadata": {},
   "outputs": [],
   "source": [
    "# #run this from terminal and save the blast results.txt \n",
    "# #step 2 : create BLAST DB\n",
    "# !makeblastdb -in train_set_for_blast.fasta -dbtype prot -out train_db\n",
    "# # step 3- run blast\n",
    "# !blastp -query test_set_for_blast.fasta -db train_db -outfmt \"6 qseqid sseqid pident length\" -out blast_results.txt"
   ]
  },
  {
   "cell_type": "code",
   "id": "5909c972-f81c-4ac3-874e-bdfa6cafefd9",
   "metadata": {
    "ExecuteTime": {
     "end_time": "2025-05-01T19:07:03.832797Z",
     "start_time": "2025-05-01T19:07:03.781853Z"
    }
   },
   "source": [
    "\n",
    "# Load BLAST results\n",
    "blast_df = pd.read_csv(\"data/blast_results.txt\", sep=\"\\t\", header=None,\n",
    "                       names=[\"query\", \"subject\", \"pident\", \"length\", \"bitscore\"])\n",
    "\n",
    "entry_to_label = dict(zip(df_train[\"Entry\"], df_train[\"Label\"]))\n",
    "true_labels = dict(zip(df_test[\"Entry\"], df_test[\"Label\"]))\n",
    "\n",
    "# Predict using top BLAST hit\n",
    "blast_df[\"pred_label\"] = blast_df[\"subject\"].map(entry_to_label)\n",
    "blast_df[\"true_label\"] = blast_df[\"query\"].map(true_labels)\n",
    "\n",
    "# Drop NA (if any query had no match)\n",
    "blast_df = blast_df.dropna(subset=[\"pred_label\", \"true_label\"])\n",
    "\n",
    "from sklearn.metrics import accuracy_score, f1_score\n",
    "\n",
    "y_true = blast_df[\"true_label\"]\n",
    "y_pred = blast_df[\"pred_label\"]\n",
    "\n",
    "print(f\"BLAST Accuracy: {accuracy_score(y_true, y_pred):0.4f}\")\n",
    "print(f\"BLAST Macro F1: {f1_score(y_true, y_pred, average='macro'):0.4f}\")\n",
    "print(f\"Num correct: {sum(y_true == y_pred)}\")"
   ],
   "outputs": [
    {
     "name": "stdout",
     "output_type": "stream",
     "text": [
      "BLAST Accuracy: 0.0019\n",
      "BLAST Macro F1: 0.0008\n",
      "Num correct: 6\n"
     ]
    }
   ],
   "execution_count": 21
  },
  {
   "cell_type": "code",
   "id": "645b7e97-66bd-4bf2-9ef3-6e9270e8e88d",
   "metadata": {
    "ExecuteTime": {
     "end_time": "2025-05-01T19:05:13.398740Z",
     "start_time": "2025-05-01T19:05:13.393626Z"
    }
   },
   "source": [
    "## check for missing predictions\n",
    "missed = set(df_test[\"Entry\"]) - set(blast_df[\"query\"])\n",
    "print(f\"{len(missed)} test sequences had no BLAST hits.\")"
   ],
   "outputs": [
    {
     "name": "stdout",
     "output_type": "stream",
     "text": [
      "1 test sequences had no BLAST hits.\n"
     ]
    }
   ],
   "execution_count": 19
  },
  {
   "metadata": {},
   "cell_type": "markdown",
   "source": "### BLAST Approach 2",
   "id": "e36c20d0218a32af"
  },
  {
   "metadata": {
    "ExecuteTime": {
     "end_time": "2025-05-01T19:18:31.707356Z",
     "start_time": "2025-05-01T19:18:31.694880Z"
    }
   },
   "cell_type": "code",
   "source": [
    "from Bio import Align\n",
    "import pickle\n",
    "\n",
    "## WARNING this takes about an hour to run\n",
    "fine_with_long_runtime = False\n",
    "\n",
    "if fine_with_long_runtime:\n",
    "    aligner = Align.PairwiseAligner(scoring=\"blastp\")\n",
    "    \n",
    "    results = {\n",
    "        \"true\": df_test.Label,\n",
    "        \"best_1\": [\"\" for _ in range(len(df_test.Label))],\n",
    "        \"best_10_NN\": [\"\" for _ in range(len(df_test.Label))]\n",
    "    }\n",
    "    \n",
    "    for test_row in range(df_test.shape[0]):\n",
    "        if test_row % 10 == 0:\n",
    "            print(test_row)\n",
    "        test_seq = df_test.Sequence.iloc[test_row]\n",
    "        true_label = df_test.Label.iloc[test_row]\n",
    "        \n",
    "        scores_and_votes = []\n",
    "        test_seq = test_seq.replace(\"U\",\"X\") # deal with selenocysteines\n",
    "        \n",
    "        for train_row in range(df_train.shape[0]):\n",
    "            train_seq = df_train.Sequence.iloc[train_row]\n",
    "            train_label = df_train.Label.iloc[train_row]\n",
    "            \n",
    "            train_seq = train_seq.replace(\"U\",\"X\") # selenocysteines not handled by BioPython\n",
    "            \n",
    "            alignments = aligner.align(test_seq, train_seq)\n",
    "            scores_and_votes.append((alignments[0].score, \n",
    "                                     train_label))\n",
    "    \n",
    "        scores_and_votes.sort(key=lambda tup: tup[0], reverse=True)\n",
    "        best_votes = [v[1] for v in scores_and_votes[:10]] # top 10 votes\n",
    "    \n",
    "        results[\"best_1\"][test_row] = best_votes[0]\n",
    "        results[\"best_10_NN\"][test_row] = max(set(best_votes), key=best_votes.count)\n",
    "    \n",
    "    with open(\"data/knn_results_1May25.pkl\", \"wb\") as file:\n",
    "        pickle.dump(results, file)"
   ],
   "id": "ce0e5c68175185ee",
   "outputs": [],
   "execution_count": 29
  },
  {
   "metadata": {
    "ExecuteTime": {
     "end_time": "2025-05-01T19:40:51.787455Z",
     "start_time": "2025-05-01T19:40:51.774796Z"
    }
   },
   "cell_type": "code",
   "source": [
    "with open(\"data/knn_results_30Apr25.pkl\", 'rb') as f:\n",
    "    results = pickle.load(f)\n",
    "\n",
    "print(f\"Accuracy for top-1 BLAST hit: {accuracy_score(results['best_1'], results['true']):0.4f}\")\n",
    "print(f\"Macro F1 for top-1 BLAST hit: {f1_score(results['best_1'], results['true'], average='macro'):0.4f}\")\n",
    "print(f\"Num correct for top-1 BLAST hit: {sum(results['true'] == results['best_1'])}\")\n",
    "\n",
    "print(\"----\")\n",
    "print(f\"Accuracy for top-10 BLAST hit: {accuracy_score(results['best_10_NN'], results['true']):0.4f}\")\n",
    "print(f\"Macro F1 for top-10 BLAST hit: {f1_score(results['best_10_NN'], results['true'], average='macro'):0.4f}\")\n",
    "print(f\"Num correct for top-10 BLAST hit: {sum(results['true'] == results['best_10_NN'])}\")"
   ],
   "id": "9e3c4afc9fa29b5",
   "outputs": [
    {
     "name": "stdout",
     "output_type": "stream",
     "text": [
      "Accuracy for top-1 BLAST hit: 0.1150\n",
      "Macro F1 for top-1 BLAST hit: 0.0883\n",
      "Num correct for top-1 BLAST hit: 46\n",
      "----\n",
      "Accuracy for top-10 BLAST hit: 0.1050\n",
      "Macro F1 for top-10 BLAST hit: 0.0786\n",
      "Num correct for top-10 BLAST hit: 42\n"
     ]
    }
   ],
   "execution_count": 35
  },
  {
   "metadata": {
    "ExecuteTime": {
     "end_time": "2025-05-01T19:40:59.049539Z",
     "start_time": "2025-05-01T19:40:59.042930Z"
    }
   },
   "cell_type": "code",
   "source": [
    "from Bio import Align\n",
    "import pickle\n",
    "\n",
    "## WARNING this takes several minutes\n",
    "fine_with_long_runtime = False\n",
    "\n",
    "if fine_with_long_runtime:\n",
    "    aligner = Align.PairwiseAligner(scoring=\"blastp\")\n",
    "    \n",
    "    results = {\n",
    "        \"true\": df_test.Label,\n",
    "        \"best_1\": [\"\" for _ in range(len(df_test.Label))],\n",
    "        \"best_10_NN\": [\"\" for _ in range(len(df_test.Label))]\n",
    "    }\n",
    "    \n",
    "    for test_row in range(df_test.shape[0]):\n",
    "        if test_row % 10 == 0:\n",
    "            print(test_row)\n",
    "        test_seq = df_test.Sequence.iloc[test_row]\n",
    "        true_label = df_test.Label.iloc[test_row]\n",
    "        \n",
    "        scores_and_votes = []\n",
    "        test_seq = test_seq.replace(\"U\",\"X\") # deal with selenocysteines\n",
    "        \n",
    "        for train_row in range(df_train.shape[0]):\n",
    "            train_seq = df_train.Sequence.iloc[train_row]\n",
    "            train_label = df_train.Label.iloc[train_row]\n",
    "            \n",
    "            train_seq = train_seq.replace(\"U\",\"X\") # selenocysteines not handled by BioPython\n",
    "            \n",
    "            alignments = aligner.align(test_seq, \n",
    "                                       train_seq[int(len(train_seq)//2 - 27): int(len(train_seq)//2 + 27)])\n",
    "            scores_and_votes.append((alignments[0].score, \n",
    "                                     train_label))\n",
    "    \n",
    "        scores_and_votes.sort(key=lambda tup: tup[0], reverse=True)\n",
    "        best_votes = [v[1] for v in scores_and_votes[:10]] # top 10 votes\n",
    "    \n",
    "        results[\"best_1\"][test_row] = best_votes[0]\n",
    "        results[\"best_10_NN\"][test_row] = max(set(best_votes), key=best_votes.count)\n",
    "    \n",
    "    with open(\"data/knn_results_1May25.pkl\", \"wb\") as file:\n",
    "        pickle.dump(results, file)"
   ],
   "id": "96c94aff4d4d51a9",
   "outputs": [],
   "execution_count": 36
  },
  {
   "metadata": {
    "ExecuteTime": {
     "end_time": "2025-05-02T14:31:45.728874Z",
     "start_time": "2025-05-02T14:31:26.835202Z"
    }
   },
   "cell_type": "code",
   "source": [
    "# encode max_length 15 -- takes seconds\n",
    "# encode max_length 50 -- takes about a minute\n",
    "# encode max_length 100 -- over ten minutes\n",
    "from transformers import EsmTokenizer, EsmModel\n",
    "import torch\n",
    "\n",
    "tokenizer = EsmTokenizer.from_pretrained(\"facebook/esm2_t6_8M_UR50D\")\n",
    "model = EsmModel.from_pretrained(\"facebook/esm2_t6_8M_UR50D\")\n",
    "train_seqs = df_train[\"Sequence\"].to_list()\n",
    "\n",
    "inputs = tokenizer(train_seqs, return_tensors=\"pt\", padding=True, \n",
    "                   truncation=True, max_length=50)\n",
    "outputs = model(**inputs)\n",
    "\n",
    "last_hidden_states = outputs.last_hidden_state\n",
    "\n",
    "x = last_hidden_states.detach()\n",
    "train_esm_embeds = x.mean(axis=1)"
   ],
   "id": "349ea02f8017eb16",
   "outputs": [
    {
     "name": "stderr",
     "output_type": "stream",
     "text": [
      "/Users/brynr/Desktop/CB_690U/CS690U/.venv/lib/python3.8/site-packages/urllib3/__init__.py:35: NotOpenSSLWarning: urllib3 v2 only supports OpenSSL 1.1.1+, currently the 'ssl' module is compiled with 'LibreSSL 2.8.3'. See: https://github.com/urllib3/urllib3/issues/3020\n",
      "  warnings.warn(\n",
      "/Users/brynr/Desktop/CB_690U/CS690U/.venv/lib/python3.8/site-packages/tqdm/auto.py:21: TqdmWarning: IProgress not found. Please update jupyter and ipywidgets. See https://ipywidgets.readthedocs.io/en/stable/user_install.html\n",
      "  from .autonotebook import tqdm as notebook_tqdm\n",
      "Some weights of EsmModel were not initialized from the model checkpoint at facebook/esm2_t6_8M_UR50D and are newly initialized: ['esm.pooler.dense.bias', 'esm.pooler.dense.weight']\n",
      "You should probably TRAIN this model on a down-stream task to be able to use it for predictions and inference.\n"
     ]
    }
   ],
   "execution_count": 4
  },
  {
   "metadata": {
    "ExecuteTime": {
     "end_time": "2025-05-02T14:32:18.194132Z",
     "start_time": "2025-05-02T14:32:13.666231Z"
    }
   },
   "cell_type": "code",
   "source": [
    "test_seqs = df_test[\"Sequence\"].to_list()\n",
    "\n",
    "inputs = tokenizer(test_seqs, return_tensors=\"pt\", padding=True, \n",
    "                   truncation=True, max_length=50)\n",
    "outputs = model(**inputs)\n",
    "\n",
    "last_hidden_states = outputs.last_hidden_state\n",
    "\n",
    "x = last_hidden_states.detach()\n",
    "test_esm_embeds = x.mean(axis=1)"
   ],
   "id": "dbbf04db1056c84c",
   "outputs": [],
   "execution_count": 5
  },
  {
   "metadata": {
    "ExecuteTime": {
     "end_time": "2025-05-02T14:32:38.146330Z",
     "start_time": "2025-05-02T14:32:24.196727Z"
    }
   },
   "cell_type": "code",
   "source": [
    "(acc, f1, num_corr) = run_logistic_regression(train_esm_embeds, y_train, \n",
    "                                              test_esm_embeds, y_test, \n",
    "                                              n_epochs=1000, verbose=False)\n",
    "\n",
    "print(f\"ESM encoding Accuracy: {acc:.4f}, F1-score: {f1:0.4f}, Num correct: {num_corr}\")"
   ],
   "id": "b31bce0b6940dadc",
   "outputs": [
    {
     "name": "stderr",
     "output_type": "stream",
     "text": [
      "/Users/brynr/Desktop/CB_690U/CS690U/ce_utils.py:34: UserWarning: To copy construct from a tensor, it is recommended to use sourceTensor.clone().detach() or sourceTensor.clone().detach().requires_grad_(True), rather than torch.tensor(sourceTensor).\n",
      "  X_train_tensor = torch.tensor(X_train, dtype=torch.float32).to(device)\n",
      "/Users/brynr/Desktop/CB_690U/CS690U/ce_utils.py:37: UserWarning: To copy construct from a tensor, it is recommended to use sourceTensor.clone().detach() or sourceTensor.clone().detach().requires_grad_(True), rather than torch.tensor(sourceTensor).\n",
      "  X_test_tensor = torch.tensor(X_test, dtype=torch.float32).to(device)\n"
     ]
    },
    {
     "name": "stdout",
     "output_type": "stream",
     "text": [
      "ESM encoding Accuracy: 0.0300, F1-score: 0.0221, Num correct: 12\n"
     ]
    }
   ],
   "execution_count": 6
  }
 ],
 "metadata": {
  "kernelspec": {
   "display_name": "Python 3 (ipykernel)",
   "language": "python",
   "name": "python3"
  },
  "language_info": {
   "codemirror_mode": {
    "name": "ipython",
    "version": 3
   },
   "file_extension": ".py",
   "mimetype": "text/x-python",
   "name": "python",
   "nbconvert_exporter": "python",
   "pygments_lexer": "ipython3",
   "version": "3.10.12"
  }
 },
 "nbformat": 4,
 "nbformat_minor": 5
}
